{
 "cells": [
  {
   "cell_type": "code",
   "execution_count": 31,
   "metadata": {
    "id": "bkCWEo1mjlIc"
   },
   "outputs": [],
   "source": [
    "#  core\n",
    "import pandas as pd\n",
    "import numpy as np\n",
    "import joblib\n",
    "# visualization\n",
    "import seaborn as sns\n",
    "import matplotlib.pyplot as plt\n",
    "# preprocessing\n",
    "from sklearn.preprocessing import MinMaxScaler\n",
    "from sklearn.model_selection import train_test_split, cross_val_score, GridSearchCV\n",
    "# modelling\n",
    "from sklearn.ensemble import RandomForestRegressor\n",
    "from sklearn.ensemble import RandomForestClassifier, GradientBoostingClassifier, AdaBoostClassifier\n",
    "from sklearn.tree import DecisionTreeClassifier\n",
    "from sklearn.svm import SVC\n",
    "from sklearn.neighbors import KNeighborsClassifier\n",
    "from sklearn.linear_model import LogisticRegression\n",
    "from xgboost import XGBClassifier\n",
    "from lightgbm import LGBMClassifier\n",
    "# evaluation\n",
    "from sklearn.metrics import ConfusionMatrixDisplay, accuracy_score, f1_score, precision_score, recall_score, f1_score, classification_report, precision_recall_curve, balanced_accuracy_score\n",
    "# ignore warnings\n",
    "import warnings\n",
    "warnings.filterwarnings('ignore')"
   ]
  },
  {
   "cell_type": "markdown",
   "metadata": {},
   "source": [
    "Data Analysis Pepeline:\n",
    "1. Data Exploration\n",
    "2. Data Cleaning\n",
    "3. Feature Engineering\n",
    "4. EDA (Visualisation)\n",
    "5. Data Preprocessing (Scaling & Encoding)\n",
    "6. Feature Selection\n",
    "7. Modeling\n",
    "8. Model Evaluation & Optimization\n",
    "9. Deployment & Interpretation"
   ]
  },
  {
   "cell_type": "markdown",
   "metadata": {},
   "source": [
    "# **STEP 1: Data Exploration**"
   ]
  },
  {
   "cell_type": "markdown",
   "metadata": {},
   "source": [
    "## **Column Descriptions**"
   ]
  },
  {
   "cell_type": "markdown",
   "metadata": {},
   "source": [
    "> Dataset Name: Kaggle Spaceship Titanic\n",
    "- Objective: Predict whether passengers were transported to another dimension during the Spaceship Titanic incident.\n",
    "- Problem Type: Binary Classification (Transported = True or False)\n",
    "\n",
    "> Data Shape:\n",
    "- Training Set: (8693 rows, 14 columns) → Contains both features and the Transported label.\n",
    "- Test Set: (4277 rows, 13 columns) → Same features as training data, but without the Transported label.\n",
    "\n",
    "> When converted into a Pandas DataFrame:\n",
    "\n",
    "Transported (Target Variable)\n",
    "- Type: Boolean (True or False)\n",
    "- True = Passenger was transported\n",
    "- False = Passenger was not transported\n",
    "- Available only in the training set (train.csv).\n",
    "\n",
    "PassengerId\n",
    "- Unique identifier for each passenger (string, e.g., \"0001_01\").\n",
    "- Used for submission matching.\n",
    "\n",
    "HomePlanet\n",
    "- The planet where the passenger started their journey (string).\n",
    "- Categorical feature: examples include Earth, Europa, Mars.\n",
    "\n",
    "CryoSleep\n",
    "- Whether the passenger opted for cryogenic sleep during the voyage (boolean).\n",
    "- Missing values may need to be handled.\n",
    "\n",
    "Cabin\n",
    "- Cabin identifier (string, format: deck/num/side, e.g., \"B/123/S\").\n",
    "- Can be split into deck, number, and side for better feature engineering.\n",
    "\n",
    "Destination\n",
    "- Destination planet for the voyage (string).\n",
    "- Common values: TRAPPIST-1e, 55 Cancri e, PSO J318.5-22.\n",
    "\n",
    "Age\n",
    "- Age of the passenger in years (float).\n",
    "- May contain missing values.\n",
    "- Often binned into age groups for modeling.\n",
    "\n",
    "VIP\n",
    "- Whether the passenger paid for special VIP service (boolean).\n",
    "- Missing values present.\n",
    "\n",
    "RoomService, FoodCourt, ShoppingMall, Spa, VRDeck\n",
    "- Amount spent on various amenities (float).\n",
    "- Can have missing values; might be combined into a total spend feature.\n",
    "\n",
    "Name\n",
    "- Full name of the passenger (string).\n",
    "- Can be split into first and last names if needed.\n",
    "\n",
    "GroupId (optional, derived from PassengerId)\n",
    "- Group number extracted from PassengerId (\"0001\" part).\n",
    "- Useful to engineer group-based features."
   ]
  },
  {
   "cell_type": "markdown",
   "metadata": {},
   "source": [
    "## **Descriptive Statistics**"
   ]
  },
  {
   "cell_type": "markdown",
   "metadata": {},
   "source": [
    "> Descriptive statistics summarize and describe the key features of a dataset."
   ]
  },
  {
   "cell_type": "code",
   "execution_count": 2,
   "metadata": {},
   "outputs": [],
   "source": [
    "# load the dataset\n",
    "train = pd.read_csv('C:/Users/ARZ/Desktop/train.csv')\n",
    "test = pd.read_csv('C:/Users/ARZ/Desktop/test.csv')"
   ]
  },
  {
   "cell_type": "code",
   "execution_count": 3,
   "metadata": {},
   "outputs": [
    {
     "data": {
      "application/vnd.microsoft.datawrangler.viewer.v0+json": {
       "columns": [
        {
         "name": "index",
         "rawType": "int64",
         "type": "integer"
        },
        {
         "name": "PassengerId",
         "rawType": "object",
         "type": "string"
        },
        {
         "name": "HomePlanet",
         "rawType": "object",
         "type": "unknown"
        },
        {
         "name": "CryoSleep",
         "rawType": "object",
         "type": "unknown"
        },
        {
         "name": "Cabin",
         "rawType": "object",
         "type": "string"
        },
        {
         "name": "Destination",
         "rawType": "object",
         "type": "string"
        },
        {
         "name": "Age",
         "rawType": "float64",
         "type": "float"
        },
        {
         "name": "VIP",
         "rawType": "object",
         "type": "unknown"
        },
        {
         "name": "RoomService",
         "rawType": "float64",
         "type": "float"
        },
        {
         "name": "FoodCourt",
         "rawType": "float64",
         "type": "float"
        },
        {
         "name": "ShoppingMall",
         "rawType": "float64",
         "type": "float"
        },
        {
         "name": "Spa",
         "rawType": "float64",
         "type": "float"
        },
        {
         "name": "VRDeck",
         "rawType": "float64",
         "type": "float"
        },
        {
         "name": "Name",
         "rawType": "object",
         "type": "unknown"
        },
        {
         "name": "Transported",
         "rawType": "bool",
         "type": "boolean"
        }
       ],
       "conversionMethod": "pd.DataFrame",
       "ref": "b8c23f64-7bbe-47ae-9db7-ba6b1fbe74e9",
       "rows": [
        [
         "0",
         "0001_01",
         "Europa",
         "False",
         "B/0/P",
         "TRAPPIST-1e",
         "39.0",
         "False",
         "0.0",
         "0.0",
         "0.0",
         "0.0",
         "0.0",
         "Maham Ofracculy",
         "False"
        ],
        [
         "1",
         "0002_01",
         "Earth",
         "False",
         "F/0/S",
         "TRAPPIST-1e",
         "24.0",
         "False",
         "109.0",
         "9.0",
         "25.0",
         "549.0",
         "44.0",
         "Juanna Vines",
         "True"
        ],
        [
         "2",
         "0003_01",
         "Europa",
         "False",
         "A/0/S",
         "TRAPPIST-1e",
         "58.0",
         "True",
         "43.0",
         "3576.0",
         "0.0",
         "6715.0",
         "49.0",
         "Altark Susent",
         "False"
        ],
        [
         "8690",
         "9279_01",
         "Earth",
         "False",
         "G/1500/S",
         "TRAPPIST-1e",
         "26.0",
         "False",
         "0.0",
         "0.0",
         "1872.0",
         "1.0",
         "0.0",
         "Fayey Connon",
         "True"
        ],
        [
         "8691",
         "9280_01",
         "Europa",
         "False",
         "E/608/S",
         "55 Cancri e",
         "32.0",
         "False",
         "0.0",
         "1049.0",
         "0.0",
         "353.0",
         "3235.0",
         "Celeon Hontichre",
         "False"
        ],
        [
         "8692",
         "9280_02",
         "Europa",
         "False",
         "E/608/S",
         "TRAPPIST-1e",
         "44.0",
         "False",
         "126.0",
         "4688.0",
         "0.0",
         "0.0",
         "12.0",
         "Propsh Hontichre",
         "True"
        ],
        [
         "1207",
         "1287_02",
         "Mars",
         "True",
         "F/259/P",
         "55 Cancri e",
         "4.0",
         "False",
         "0.0",
         "0.0",
         "0.0",
         null,
         "0.0",
         null,
         "True"
        ],
        [
         "1916",
         "2055_02",
         null,
         "False",
         "G/330/P",
         "PSO J318.5-22",
         "32.0",
         "False",
         "0.0",
         "58.0",
         "0.0",
         "0.0",
         "642.0",
         "Sall Woodwinez",
         "True"
        ],
        [
         "5930",
         "6293_01",
         "Earth",
         "False",
         "F/1301/P",
         "TRAPPIST-1e",
         "24.0",
         "False",
         "0.0",
         "1049.0",
         "1.0",
         "0.0",
         "0.0",
         "Thel Sweekstarks",
         "False"
        ]
       ],
       "shape": {
        "columns": 14,
        "rows": 9
       }
      },
      "text/html": [
       "<div>\n",
       "<style scoped>\n",
       "    .dataframe tbody tr th:only-of-type {\n",
       "        vertical-align: middle;\n",
       "    }\n",
       "\n",
       "    .dataframe tbody tr th {\n",
       "        vertical-align: top;\n",
       "    }\n",
       "\n",
       "    .dataframe thead th {\n",
       "        text-align: right;\n",
       "    }\n",
       "</style>\n",
       "<table border=\"1\" class=\"dataframe\">\n",
       "  <thead>\n",
       "    <tr style=\"text-align: right;\">\n",
       "      <th></th>\n",
       "      <th>PassengerId</th>\n",
       "      <th>HomePlanet</th>\n",
       "      <th>CryoSleep</th>\n",
       "      <th>Cabin</th>\n",
       "      <th>Destination</th>\n",
       "      <th>Age</th>\n",
       "      <th>VIP</th>\n",
       "      <th>RoomService</th>\n",
       "      <th>FoodCourt</th>\n",
       "      <th>ShoppingMall</th>\n",
       "      <th>Spa</th>\n",
       "      <th>VRDeck</th>\n",
       "      <th>Name</th>\n",
       "      <th>Transported</th>\n",
       "    </tr>\n",
       "  </thead>\n",
       "  <tbody>\n",
       "    <tr>\n",
       "      <th>0</th>\n",
       "      <td>0001_01</td>\n",
       "      <td>Europa</td>\n",
       "      <td>False</td>\n",
       "      <td>B/0/P</td>\n",
       "      <td>TRAPPIST-1e</td>\n",
       "      <td>39.0</td>\n",
       "      <td>False</td>\n",
       "      <td>0.0</td>\n",
       "      <td>0.0</td>\n",
       "      <td>0.0</td>\n",
       "      <td>0.0</td>\n",
       "      <td>0.0</td>\n",
       "      <td>Maham Ofracculy</td>\n",
       "      <td>False</td>\n",
       "    </tr>\n",
       "    <tr>\n",
       "      <th>1</th>\n",
       "      <td>0002_01</td>\n",
       "      <td>Earth</td>\n",
       "      <td>False</td>\n",
       "      <td>F/0/S</td>\n",
       "      <td>TRAPPIST-1e</td>\n",
       "      <td>24.0</td>\n",
       "      <td>False</td>\n",
       "      <td>109.0</td>\n",
       "      <td>9.0</td>\n",
       "      <td>25.0</td>\n",
       "      <td>549.0</td>\n",
       "      <td>44.0</td>\n",
       "      <td>Juanna Vines</td>\n",
       "      <td>True</td>\n",
       "    </tr>\n",
       "    <tr>\n",
       "      <th>2</th>\n",
       "      <td>0003_01</td>\n",
       "      <td>Europa</td>\n",
       "      <td>False</td>\n",
       "      <td>A/0/S</td>\n",
       "      <td>TRAPPIST-1e</td>\n",
       "      <td>58.0</td>\n",
       "      <td>True</td>\n",
       "      <td>43.0</td>\n",
       "      <td>3576.0</td>\n",
       "      <td>0.0</td>\n",
       "      <td>6715.0</td>\n",
       "      <td>49.0</td>\n",
       "      <td>Altark Susent</td>\n",
       "      <td>False</td>\n",
       "    </tr>\n",
       "    <tr>\n",
       "      <th>8690</th>\n",
       "      <td>9279_01</td>\n",
       "      <td>Earth</td>\n",
       "      <td>False</td>\n",
       "      <td>G/1500/S</td>\n",
       "      <td>TRAPPIST-1e</td>\n",
       "      <td>26.0</td>\n",
       "      <td>False</td>\n",
       "      <td>0.0</td>\n",
       "      <td>0.0</td>\n",
       "      <td>1872.0</td>\n",
       "      <td>1.0</td>\n",
       "      <td>0.0</td>\n",
       "      <td>Fayey Connon</td>\n",
       "      <td>True</td>\n",
       "    </tr>\n",
       "    <tr>\n",
       "      <th>8691</th>\n",
       "      <td>9280_01</td>\n",
       "      <td>Europa</td>\n",
       "      <td>False</td>\n",
       "      <td>E/608/S</td>\n",
       "      <td>55 Cancri e</td>\n",
       "      <td>32.0</td>\n",
       "      <td>False</td>\n",
       "      <td>0.0</td>\n",
       "      <td>1049.0</td>\n",
       "      <td>0.0</td>\n",
       "      <td>353.0</td>\n",
       "      <td>3235.0</td>\n",
       "      <td>Celeon Hontichre</td>\n",
       "      <td>False</td>\n",
       "    </tr>\n",
       "    <tr>\n",
       "      <th>8692</th>\n",
       "      <td>9280_02</td>\n",
       "      <td>Europa</td>\n",
       "      <td>False</td>\n",
       "      <td>E/608/S</td>\n",
       "      <td>TRAPPIST-1e</td>\n",
       "      <td>44.0</td>\n",
       "      <td>False</td>\n",
       "      <td>126.0</td>\n",
       "      <td>4688.0</td>\n",
       "      <td>0.0</td>\n",
       "      <td>0.0</td>\n",
       "      <td>12.0</td>\n",
       "      <td>Propsh Hontichre</td>\n",
       "      <td>True</td>\n",
       "    </tr>\n",
       "    <tr>\n",
       "      <th>1207</th>\n",
       "      <td>1287_02</td>\n",
       "      <td>Mars</td>\n",
       "      <td>True</td>\n",
       "      <td>F/259/P</td>\n",
       "      <td>55 Cancri e</td>\n",
       "      <td>4.0</td>\n",
       "      <td>False</td>\n",
       "      <td>0.0</td>\n",
       "      <td>0.0</td>\n",
       "      <td>0.0</td>\n",
       "      <td>NaN</td>\n",
       "      <td>0.0</td>\n",
       "      <td>NaN</td>\n",
       "      <td>True</td>\n",
       "    </tr>\n",
       "    <tr>\n",
       "      <th>1916</th>\n",
       "      <td>2055_02</td>\n",
       "      <td>NaN</td>\n",
       "      <td>False</td>\n",
       "      <td>G/330/P</td>\n",
       "      <td>PSO J318.5-22</td>\n",
       "      <td>32.0</td>\n",
       "      <td>False</td>\n",
       "      <td>0.0</td>\n",
       "      <td>58.0</td>\n",
       "      <td>0.0</td>\n",
       "      <td>0.0</td>\n",
       "      <td>642.0</td>\n",
       "      <td>Sall Woodwinez</td>\n",
       "      <td>True</td>\n",
       "    </tr>\n",
       "    <tr>\n",
       "      <th>5930</th>\n",
       "      <td>6293_01</td>\n",
       "      <td>Earth</td>\n",
       "      <td>False</td>\n",
       "      <td>F/1301/P</td>\n",
       "      <td>TRAPPIST-1e</td>\n",
       "      <td>24.0</td>\n",
       "      <td>False</td>\n",
       "      <td>0.0</td>\n",
       "      <td>1049.0</td>\n",
       "      <td>1.0</td>\n",
       "      <td>0.0</td>\n",
       "      <td>0.0</td>\n",
       "      <td>Thel Sweekstarks</td>\n",
       "      <td>False</td>\n",
       "    </tr>\n",
       "  </tbody>\n",
       "</table>\n",
       "</div>"
      ],
      "text/plain": [
       "     PassengerId HomePlanet CryoSleep     Cabin    Destination   Age    VIP  \\\n",
       "0        0001_01     Europa     False     B/0/P    TRAPPIST-1e  39.0  False   \n",
       "1        0002_01      Earth     False     F/0/S    TRAPPIST-1e  24.0  False   \n",
       "2        0003_01     Europa     False     A/0/S    TRAPPIST-1e  58.0   True   \n",
       "8690     9279_01      Earth     False  G/1500/S    TRAPPIST-1e  26.0  False   \n",
       "8691     9280_01     Europa     False   E/608/S    55 Cancri e  32.0  False   \n",
       "8692     9280_02     Europa     False   E/608/S    TRAPPIST-1e  44.0  False   \n",
       "1207     1287_02       Mars      True   F/259/P    55 Cancri e   4.0  False   \n",
       "1916     2055_02        NaN     False   G/330/P  PSO J318.5-22  32.0  False   \n",
       "5930     6293_01      Earth     False  F/1301/P    TRAPPIST-1e  24.0  False   \n",
       "\n",
       "      RoomService  FoodCourt  ShoppingMall     Spa  VRDeck              Name  \\\n",
       "0             0.0        0.0           0.0     0.0     0.0   Maham Ofracculy   \n",
       "1           109.0        9.0          25.0   549.0    44.0      Juanna Vines   \n",
       "2            43.0     3576.0           0.0  6715.0    49.0     Altark Susent   \n",
       "8690          0.0        0.0        1872.0     1.0     0.0      Fayey Connon   \n",
       "8691          0.0     1049.0           0.0   353.0  3235.0  Celeon Hontichre   \n",
       "8692        126.0     4688.0           0.0     0.0    12.0  Propsh Hontichre   \n",
       "1207          0.0        0.0           0.0     NaN     0.0               NaN   \n",
       "1916          0.0       58.0           0.0     0.0   642.0    Sall Woodwinez   \n",
       "5930          0.0     1049.0           1.0     0.0     0.0  Thel Sweekstarks   \n",
       "\n",
       "      Transported  \n",
       "0           False  \n",
       "1            True  \n",
       "2           False  \n",
       "8690         True  \n",
       "8691        False  \n",
       "8692         True  \n",
       "1207         True  \n",
       "1916         True  \n",
       "5930        False  "
      ]
     },
     "execution_count": 3,
     "metadata": {},
     "output_type": "execute_result"
    }
   ],
   "source": [
    "def dataset_snapshot(df):\n",
    "    head = df.head(3)\n",
    "    tail = df.tail(3)\n",
    "    sample = df.sample(3)\n",
    "    return pd.concat([head, tail, sample])\n",
    "\n",
    "dataset_snapshot(train)"
   ]
  },
  {
   "cell_type": "code",
   "execution_count": 4,
   "metadata": {},
   "outputs": [
    {
     "data": {
      "application/vnd.microsoft.datawrangler.viewer.v0+json": {
       "columns": [
        {
         "name": "index",
         "rawType": "int64",
         "type": "integer"
        },
        {
         "name": "column",
         "rawType": "object",
         "type": "string"
        },
        {
         "name": "dtype",
         "rawType": "object",
         "type": "unknown"
        },
        {
         "name": "nunique",
         "rawType": "int64",
         "type": "integer"
        },
        {
         "name": "missing",
         "rawType": "int64",
         "type": "integer"
        }
       ],
       "conversionMethod": "pd.DataFrame",
       "ref": "9f618d1b-3e1a-4de0-a516-65b67ca5f0b2",
       "rows": [
        [
         "0",
         "PassengerId",
         "object",
         "8693",
         "0"
        ],
        [
         "1",
         "HomePlanet",
         "object",
         "3",
         "201"
        ],
        [
         "2",
         "CryoSleep",
         "object",
         "2",
         "217"
        ],
        [
         "3",
         "Cabin",
         "object",
         "6560",
         "199"
        ],
        [
         "4",
         "Destination",
         "object",
         "3",
         "182"
        ],
        [
         "5",
         "Age",
         "float64",
         "80",
         "179"
        ],
        [
         "6",
         "VIP",
         "object",
         "2",
         "203"
        ],
        [
         "7",
         "RoomService",
         "float64",
         "1273",
         "181"
        ],
        [
         "8",
         "FoodCourt",
         "float64",
         "1507",
         "183"
        ],
        [
         "9",
         "ShoppingMall",
         "float64",
         "1115",
         "208"
        ],
        [
         "10",
         "Spa",
         "float64",
         "1327",
         "183"
        ],
        [
         "11",
         "VRDeck",
         "float64",
         "1306",
         "188"
        ],
        [
         "12",
         "Name",
         "object",
         "8473",
         "200"
        ],
        [
         "13",
         "Transported",
         "bool",
         "2",
         "0"
        ]
       ],
       "shape": {
        "columns": 4,
        "rows": 14
       }
      },
      "text/html": [
       "<div>\n",
       "<style scoped>\n",
       "    .dataframe tbody tr th:only-of-type {\n",
       "        vertical-align: middle;\n",
       "    }\n",
       "\n",
       "    .dataframe tbody tr th {\n",
       "        vertical-align: top;\n",
       "    }\n",
       "\n",
       "    .dataframe thead th {\n",
       "        text-align: right;\n",
       "    }\n",
       "</style>\n",
       "<table border=\"1\" class=\"dataframe\">\n",
       "  <thead>\n",
       "    <tr style=\"text-align: right;\">\n",
       "      <th></th>\n",
       "      <th>column</th>\n",
       "      <th>dtype</th>\n",
       "      <th>nunique</th>\n",
       "      <th>missing</th>\n",
       "    </tr>\n",
       "  </thead>\n",
       "  <tbody>\n",
       "    <tr>\n",
       "      <th>0</th>\n",
       "      <td>PassengerId</td>\n",
       "      <td>object</td>\n",
       "      <td>8693</td>\n",
       "      <td>0</td>\n",
       "    </tr>\n",
       "    <tr>\n",
       "      <th>1</th>\n",
       "      <td>HomePlanet</td>\n",
       "      <td>object</td>\n",
       "      <td>3</td>\n",
       "      <td>201</td>\n",
       "    </tr>\n",
       "    <tr>\n",
       "      <th>2</th>\n",
       "      <td>CryoSleep</td>\n",
       "      <td>object</td>\n",
       "      <td>2</td>\n",
       "      <td>217</td>\n",
       "    </tr>\n",
       "    <tr>\n",
       "      <th>3</th>\n",
       "      <td>Cabin</td>\n",
       "      <td>object</td>\n",
       "      <td>6560</td>\n",
       "      <td>199</td>\n",
       "    </tr>\n",
       "    <tr>\n",
       "      <th>4</th>\n",
       "      <td>Destination</td>\n",
       "      <td>object</td>\n",
       "      <td>3</td>\n",
       "      <td>182</td>\n",
       "    </tr>\n",
       "    <tr>\n",
       "      <th>5</th>\n",
       "      <td>Age</td>\n",
       "      <td>float64</td>\n",
       "      <td>80</td>\n",
       "      <td>179</td>\n",
       "    </tr>\n",
       "    <tr>\n",
       "      <th>6</th>\n",
       "      <td>VIP</td>\n",
       "      <td>object</td>\n",
       "      <td>2</td>\n",
       "      <td>203</td>\n",
       "    </tr>\n",
       "    <tr>\n",
       "      <th>7</th>\n",
       "      <td>RoomService</td>\n",
       "      <td>float64</td>\n",
       "      <td>1273</td>\n",
       "      <td>181</td>\n",
       "    </tr>\n",
       "    <tr>\n",
       "      <th>8</th>\n",
       "      <td>FoodCourt</td>\n",
       "      <td>float64</td>\n",
       "      <td>1507</td>\n",
       "      <td>183</td>\n",
       "    </tr>\n",
       "    <tr>\n",
       "      <th>9</th>\n",
       "      <td>ShoppingMall</td>\n",
       "      <td>float64</td>\n",
       "      <td>1115</td>\n",
       "      <td>208</td>\n",
       "    </tr>\n",
       "    <tr>\n",
       "      <th>10</th>\n",
       "      <td>Spa</td>\n",
       "      <td>float64</td>\n",
       "      <td>1327</td>\n",
       "      <td>183</td>\n",
       "    </tr>\n",
       "    <tr>\n",
       "      <th>11</th>\n",
       "      <td>VRDeck</td>\n",
       "      <td>float64</td>\n",
       "      <td>1306</td>\n",
       "      <td>188</td>\n",
       "    </tr>\n",
       "    <tr>\n",
       "      <th>12</th>\n",
       "      <td>Name</td>\n",
       "      <td>object</td>\n",
       "      <td>8473</td>\n",
       "      <td>200</td>\n",
       "    </tr>\n",
       "    <tr>\n",
       "      <th>13</th>\n",
       "      <td>Transported</td>\n",
       "      <td>bool</td>\n",
       "      <td>2</td>\n",
       "      <td>0</td>\n",
       "    </tr>\n",
       "  </tbody>\n",
       "</table>\n",
       "</div>"
      ],
      "text/plain": [
       "          column    dtype  nunique  missing\n",
       "0    PassengerId   object     8693        0\n",
       "1     HomePlanet   object        3      201\n",
       "2      CryoSleep   object        2      217\n",
       "3          Cabin   object     6560      199\n",
       "4    Destination   object        3      182\n",
       "5            Age  float64       80      179\n",
       "6            VIP   object        2      203\n",
       "7    RoomService  float64     1273      181\n",
       "8      FoodCourt  float64     1507      183\n",
       "9   ShoppingMall  float64     1115      208\n",
       "10           Spa  float64     1327      183\n",
       "11        VRDeck  float64     1306      188\n",
       "12          Name   object     8473      200\n",
       "13   Transported     bool        2        0"
      ]
     },
     "execution_count": 4,
     "metadata": {},
     "output_type": "execute_result"
    }
   ],
   "source": [
    "def quick_overview(df):\n",
    "    return pd.DataFrame({\n",
    "        \"dtype\": df.dtypes,\n",
    "        \"nunique\": df.nunique(),\n",
    "        \"missing\": df.isnull().sum()\n",
    "    }).reset_index().rename(columns={\"index\": \"column\"})\n",
    "quick_overview(train)"
   ]
  },
  {
   "cell_type": "code",
   "execution_count": 5,
   "metadata": {},
   "outputs": [
    {
     "name": "stdout",
     "output_type": "stream",
     "text": [
      "#################### SHAPE ########################\n",
      "🔹 Rows: 8693 | 🔹 Columns: 14\n",
      "\n",
      "#################### INFO #########################\n",
      "<class 'pandas.core.frame.DataFrame'>\n",
      "RangeIndex: 8693 entries, 0 to 8692\n",
      "Data columns (total 14 columns):\n",
      " #   Column        Non-Null Count  Dtype  \n",
      "---  ------        --------------  -----  \n",
      " 0   PassengerId   8693 non-null   object \n",
      " 1   HomePlanet    8492 non-null   object \n",
      " 2   CryoSleep     8476 non-null   object \n",
      " 3   Cabin         8494 non-null   object \n",
      " 4   Destination   8511 non-null   object \n",
      " 5   Age           8514 non-null   float64\n",
      " 6   VIP           8490 non-null   object \n",
      " 7   RoomService   8512 non-null   float64\n",
      " 8   FoodCourt     8510 non-null   float64\n",
      " 9   ShoppingMall  8485 non-null   float64\n",
      " 10  Spa           8510 non-null   float64\n",
      " 11  VRDeck        8505 non-null   float64\n",
      " 12  Name          8493 non-null   object \n",
      " 13  Transported   8693 non-null   bool   \n",
      "dtypes: bool(1), float64(6), object(7)\n",
      "memory usage: 891.5+ KB\n",
      "None \n",
      "\n",
      "################## DESCRIPTIVE STATS (numerical) ##################\n"
     ]
    },
    {
     "data": {
      "text/html": [
       "<style type=\"text/css\">\n",
       "#T_b59cc_row0_col0, #T_b59cc_row0_col4, #T_b59cc_row0_col5, #T_b59cc_row2_col1, #T_b59cc_row2_col2, #T_b59cc_row2_col6, #T_b59cc_row2_col7 {\n",
       "  background-color: #023858;\n",
       "  color: #f1f1f1;\n",
       "}\n",
       "#T_b59cc_row0_col1, #T_b59cc_row0_col2, #T_b59cc_row0_col3, #T_b59cc_row0_col7, #T_b59cc_row1_col3, #T_b59cc_row1_col4, #T_b59cc_row1_col5, #T_b59cc_row2_col3, #T_b59cc_row2_col4, #T_b59cc_row2_col5, #T_b59cc_row3_col0, #T_b59cc_row3_col3, #T_b59cc_row3_col4, #T_b59cc_row3_col5, #T_b59cc_row3_col6, #T_b59cc_row4_col3, #T_b59cc_row4_col4, #T_b59cc_row4_col5, #T_b59cc_row5_col3, #T_b59cc_row5_col4, #T_b59cc_row5_col5 {\n",
       "  background-color: #fff7fb;\n",
       "  color: #000000;\n",
       "}\n",
       "#T_b59cc_row0_col6 {\n",
       "  background-color: #d6d6e9;\n",
       "  color: #000000;\n",
       "}\n",
       "#T_b59cc_row1_col0 {\n",
       "  background-color: #034a74;\n",
       "  color: #f1f1f1;\n",
       "}\n",
       "#T_b59cc_row1_col1 {\n",
       "  background-color: #86b0d3;\n",
       "  color: #000000;\n",
       "}\n",
       "#T_b59cc_row1_col2, #T_b59cc_row1_col6 {\n",
       "  background-color: #99b8d8;\n",
       "  color: #000000;\n",
       "}\n",
       "#T_b59cc_row1_col7 {\n",
       "  background-color: #7dacd1;\n",
       "  color: #f1f1f1;\n",
       "}\n",
       "#T_b59cc_row2_col0, #T_b59cc_row4_col0 {\n",
       "  background-color: #045c90;\n",
       "  color: #f1f1f1;\n",
       "}\n",
       "#T_b59cc_row3_col1 {\n",
       "  background-color: #b3c3de;\n",
       "  color: #000000;\n",
       "}\n",
       "#T_b59cc_row3_col2 {\n",
       "  background-color: #a8bedc;\n",
       "  color: #000000;\n",
       "}\n",
       "#T_b59cc_row3_col7 {\n",
       "  background-color: #0569a5;\n",
       "  color: #f1f1f1;\n",
       "}\n",
       "#T_b59cc_row4_col1 {\n",
       "  background-color: #2987bc;\n",
       "  color: #f1f1f1;\n",
       "}\n",
       "#T_b59cc_row4_col2 {\n",
       "  background-color: #187cb6;\n",
       "  color: #f1f1f1;\n",
       "}\n",
       "#T_b59cc_row4_col6 {\n",
       "  background-color: #2a88bc;\n",
       "  color: #f1f1f1;\n",
       "}\n",
       "#T_b59cc_row4_col7 {\n",
       "  background-color: #056faf;\n",
       "  color: #f1f1f1;\n",
       "}\n",
       "#T_b59cc_row5_col0 {\n",
       "  background-color: #1c7fb8;\n",
       "  color: #f1f1f1;\n",
       "}\n",
       "#T_b59cc_row5_col1 {\n",
       "  background-color: #2f8bbe;\n",
       "  color: #f1f1f1;\n",
       "}\n",
       "#T_b59cc_row5_col2 {\n",
       "  background-color: #157ab5;\n",
       "  color: #f1f1f1;\n",
       "}\n",
       "#T_b59cc_row5_col6 {\n",
       "  background-color: #a1bbda;\n",
       "  color: #000000;\n",
       "}\n",
       "#T_b59cc_row5_col7 {\n",
       "  background-color: #05659f;\n",
       "  color: #f1f1f1;\n",
       "}\n",
       "</style>\n",
       "<table id=\"T_b59cc\">\n",
       "  <thead>\n",
       "    <tr>\n",
       "      <th class=\"blank level0\" >&nbsp;</th>\n",
       "      <th id=\"T_b59cc_level0_col0\" class=\"col_heading level0 col0\" >count</th>\n",
       "      <th id=\"T_b59cc_level0_col1\" class=\"col_heading level0 col1\" >mean</th>\n",
       "      <th id=\"T_b59cc_level0_col2\" class=\"col_heading level0 col2\" >std</th>\n",
       "      <th id=\"T_b59cc_level0_col3\" class=\"col_heading level0 col3\" >min</th>\n",
       "      <th id=\"T_b59cc_level0_col4\" class=\"col_heading level0 col4\" >25%</th>\n",
       "      <th id=\"T_b59cc_level0_col5\" class=\"col_heading level0 col5\" >50%</th>\n",
       "      <th id=\"T_b59cc_level0_col6\" class=\"col_heading level0 col6\" >75%</th>\n",
       "      <th id=\"T_b59cc_level0_col7\" class=\"col_heading level0 col7\" >max</th>\n",
       "    </tr>\n",
       "  </thead>\n",
       "  <tbody>\n",
       "    <tr>\n",
       "      <th id=\"T_b59cc_level0_row0\" class=\"row_heading level0 row0\" >Age</th>\n",
       "      <td id=\"T_b59cc_row0_col0\" class=\"data row0 col0\" >8514.000000</td>\n",
       "      <td id=\"T_b59cc_row0_col1\" class=\"data row0 col1\" >28.827930</td>\n",
       "      <td id=\"T_b59cc_row0_col2\" class=\"data row0 col2\" >14.489021</td>\n",
       "      <td id=\"T_b59cc_row0_col3\" class=\"data row0 col3\" >0.000000</td>\n",
       "      <td id=\"T_b59cc_row0_col4\" class=\"data row0 col4\" >19.000000</td>\n",
       "      <td id=\"T_b59cc_row0_col5\" class=\"data row0 col5\" >27.000000</td>\n",
       "      <td id=\"T_b59cc_row0_col6\" class=\"data row0 col6\" >38.000000</td>\n",
       "      <td id=\"T_b59cc_row0_col7\" class=\"data row0 col7\" >79.000000</td>\n",
       "    </tr>\n",
       "    <tr>\n",
       "      <th id=\"T_b59cc_level0_row1\" class=\"row_heading level0 row1\" >RoomService</th>\n",
       "      <td id=\"T_b59cc_row1_col0\" class=\"data row1 col0\" >8512.000000</td>\n",
       "      <td id=\"T_b59cc_row1_col1\" class=\"data row1 col1\" >224.687617</td>\n",
       "      <td id=\"T_b59cc_row1_col2\" class=\"data row1 col2\" >666.717663</td>\n",
       "      <td id=\"T_b59cc_row1_col3\" class=\"data row1 col3\" >0.000000</td>\n",
       "      <td id=\"T_b59cc_row1_col4\" class=\"data row1 col4\" >0.000000</td>\n",
       "      <td id=\"T_b59cc_row1_col5\" class=\"data row1 col5\" >0.000000</td>\n",
       "      <td id=\"T_b59cc_row1_col6\" class=\"data row1 col6\" >47.000000</td>\n",
       "      <td id=\"T_b59cc_row1_col7\" class=\"data row1 col7\" >14327.000000</td>\n",
       "    </tr>\n",
       "    <tr>\n",
       "      <th id=\"T_b59cc_level0_row2\" class=\"row_heading level0 row2\" >FoodCourt</th>\n",
       "      <td id=\"T_b59cc_row2_col0\" class=\"data row2 col0\" >8510.000000</td>\n",
       "      <td id=\"T_b59cc_row2_col1\" class=\"data row2 col1\" >458.077203</td>\n",
       "      <td id=\"T_b59cc_row2_col2\" class=\"data row2 col2\" >1611.489240</td>\n",
       "      <td id=\"T_b59cc_row2_col3\" class=\"data row2 col3\" >0.000000</td>\n",
       "      <td id=\"T_b59cc_row2_col4\" class=\"data row2 col4\" >0.000000</td>\n",
       "      <td id=\"T_b59cc_row2_col5\" class=\"data row2 col5\" >0.000000</td>\n",
       "      <td id=\"T_b59cc_row2_col6\" class=\"data row2 col6\" >76.000000</td>\n",
       "      <td id=\"T_b59cc_row2_col7\" class=\"data row2 col7\" >29813.000000</td>\n",
       "    </tr>\n",
       "    <tr>\n",
       "      <th id=\"T_b59cc_level0_row3\" class=\"row_heading level0 row3\" >ShoppingMall</th>\n",
       "      <td id=\"T_b59cc_row3_col0\" class=\"data row3 col0\" >8485.000000</td>\n",
       "      <td id=\"T_b59cc_row3_col1\" class=\"data row3 col1\" >173.729169</td>\n",
       "      <td id=\"T_b59cc_row3_col2\" class=\"data row3 col2\" >604.696458</td>\n",
       "      <td id=\"T_b59cc_row3_col3\" class=\"data row3 col3\" >0.000000</td>\n",
       "      <td id=\"T_b59cc_row3_col4\" class=\"data row3 col4\" >0.000000</td>\n",
       "      <td id=\"T_b59cc_row3_col5\" class=\"data row3 col5\" >0.000000</td>\n",
       "      <td id=\"T_b59cc_row3_col6\" class=\"data row3 col6\" >27.000000</td>\n",
       "      <td id=\"T_b59cc_row3_col7\" class=\"data row3 col7\" >23492.000000</td>\n",
       "    </tr>\n",
       "    <tr>\n",
       "      <th id=\"T_b59cc_level0_row4\" class=\"row_heading level0 row4\" >Spa</th>\n",
       "      <td id=\"T_b59cc_row4_col0\" class=\"data row4 col0\" >8510.000000</td>\n",
       "      <td id=\"T_b59cc_row4_col1\" class=\"data row4 col1\" >311.138778</td>\n",
       "      <td id=\"T_b59cc_row4_col2\" class=\"data row4 col2\" >1136.705535</td>\n",
       "      <td id=\"T_b59cc_row4_col3\" class=\"data row4 col3\" >0.000000</td>\n",
       "      <td id=\"T_b59cc_row4_col4\" class=\"data row4 col4\" >0.000000</td>\n",
       "      <td id=\"T_b59cc_row4_col5\" class=\"data row4 col5\" >0.000000</td>\n",
       "      <td id=\"T_b59cc_row4_col6\" class=\"data row4 col6\" >59.000000</td>\n",
       "      <td id=\"T_b59cc_row4_col7\" class=\"data row4 col7\" >22408.000000</td>\n",
       "    </tr>\n",
       "    <tr>\n",
       "      <th id=\"T_b59cc_level0_row5\" class=\"row_heading level0 row5\" >VRDeck</th>\n",
       "      <td id=\"T_b59cc_row5_col0\" class=\"data row5 col0\" >8505.000000</td>\n",
       "      <td id=\"T_b59cc_row5_col1\" class=\"data row5 col1\" >304.854791</td>\n",
       "      <td id=\"T_b59cc_row5_col2\" class=\"data row5 col2\" >1145.717189</td>\n",
       "      <td id=\"T_b59cc_row5_col3\" class=\"data row5 col3\" >0.000000</td>\n",
       "      <td id=\"T_b59cc_row5_col4\" class=\"data row5 col4\" >0.000000</td>\n",
       "      <td id=\"T_b59cc_row5_col5\" class=\"data row5 col5\" >0.000000</td>\n",
       "      <td id=\"T_b59cc_row5_col6\" class=\"data row5 col6\" >46.000000</td>\n",
       "      <td id=\"T_b59cc_row5_col7\" class=\"data row5 col7\" >24133.000000</td>\n",
       "    </tr>\n",
       "  </tbody>\n",
       "</table>\n"
      ],
      "text/plain": [
       "<pandas.io.formats.style.Styler at 0x27722fd4f20>"
      ]
     },
     "metadata": {},
     "output_type": "display_data"
    },
    {
     "name": "stdout",
     "output_type": "stream",
     "text": [
      "################## DESCRIPTIVE STATS (categorical) ##################\n"
     ]
    },
    {
     "data": {
      "text/html": [
       "<style type=\"text/css\">\n",
       "</style>\n",
       "<table id=\"T_92f84\">\n",
       "  <thead>\n",
       "    <tr>\n",
       "      <th class=\"blank level0\" >&nbsp;</th>\n",
       "      <th id=\"T_92f84_level0_col0\" class=\"col_heading level0 col0\" >count</th>\n",
       "      <th id=\"T_92f84_level0_col1\" class=\"col_heading level0 col1\" >unique</th>\n",
       "      <th id=\"T_92f84_level0_col2\" class=\"col_heading level0 col2\" >top</th>\n",
       "      <th id=\"T_92f84_level0_col3\" class=\"col_heading level0 col3\" >freq</th>\n",
       "    </tr>\n",
       "  </thead>\n",
       "  <tbody>\n",
       "    <tr>\n",
       "      <th id=\"T_92f84_level0_row0\" class=\"row_heading level0 row0\" >PassengerId</th>\n",
       "      <td id=\"T_92f84_row0_col0\" class=\"data row0 col0\" >8693</td>\n",
       "      <td id=\"T_92f84_row0_col1\" class=\"data row0 col1\" >8693</td>\n",
       "      <td id=\"T_92f84_row0_col2\" class=\"data row0 col2\" >0001_01</td>\n",
       "      <td id=\"T_92f84_row0_col3\" class=\"data row0 col3\" >1</td>\n",
       "    </tr>\n",
       "    <tr>\n",
       "      <th id=\"T_92f84_level0_row1\" class=\"row_heading level0 row1\" >HomePlanet</th>\n",
       "      <td id=\"T_92f84_row1_col0\" class=\"data row1 col0\" >8492</td>\n",
       "      <td id=\"T_92f84_row1_col1\" class=\"data row1 col1\" >3</td>\n",
       "      <td id=\"T_92f84_row1_col2\" class=\"data row1 col2\" >Earth</td>\n",
       "      <td id=\"T_92f84_row1_col3\" class=\"data row1 col3\" >4602</td>\n",
       "    </tr>\n",
       "    <tr>\n",
       "      <th id=\"T_92f84_level0_row2\" class=\"row_heading level0 row2\" >CryoSleep</th>\n",
       "      <td id=\"T_92f84_row2_col0\" class=\"data row2 col0\" >8476</td>\n",
       "      <td id=\"T_92f84_row2_col1\" class=\"data row2 col1\" >2</td>\n",
       "      <td id=\"T_92f84_row2_col2\" class=\"data row2 col2\" >False</td>\n",
       "      <td id=\"T_92f84_row2_col3\" class=\"data row2 col3\" >5439</td>\n",
       "    </tr>\n",
       "    <tr>\n",
       "      <th id=\"T_92f84_level0_row3\" class=\"row_heading level0 row3\" >Cabin</th>\n",
       "      <td id=\"T_92f84_row3_col0\" class=\"data row3 col0\" >8494</td>\n",
       "      <td id=\"T_92f84_row3_col1\" class=\"data row3 col1\" >6560</td>\n",
       "      <td id=\"T_92f84_row3_col2\" class=\"data row3 col2\" >G/734/S</td>\n",
       "      <td id=\"T_92f84_row3_col3\" class=\"data row3 col3\" >8</td>\n",
       "    </tr>\n",
       "    <tr>\n",
       "      <th id=\"T_92f84_level0_row4\" class=\"row_heading level0 row4\" >Destination</th>\n",
       "      <td id=\"T_92f84_row4_col0\" class=\"data row4 col0\" >8511</td>\n",
       "      <td id=\"T_92f84_row4_col1\" class=\"data row4 col1\" >3</td>\n",
       "      <td id=\"T_92f84_row4_col2\" class=\"data row4 col2\" >TRAPPIST-1e</td>\n",
       "      <td id=\"T_92f84_row4_col3\" class=\"data row4 col3\" >5915</td>\n",
       "    </tr>\n",
       "    <tr>\n",
       "      <th id=\"T_92f84_level0_row5\" class=\"row_heading level0 row5\" >VIP</th>\n",
       "      <td id=\"T_92f84_row5_col0\" class=\"data row5 col0\" >8490</td>\n",
       "      <td id=\"T_92f84_row5_col1\" class=\"data row5 col1\" >2</td>\n",
       "      <td id=\"T_92f84_row5_col2\" class=\"data row5 col2\" >False</td>\n",
       "      <td id=\"T_92f84_row5_col3\" class=\"data row5 col3\" >8291</td>\n",
       "    </tr>\n",
       "    <tr>\n",
       "      <th id=\"T_92f84_level0_row6\" class=\"row_heading level0 row6\" >Name</th>\n",
       "      <td id=\"T_92f84_row6_col0\" class=\"data row6 col0\" >8493</td>\n",
       "      <td id=\"T_92f84_row6_col1\" class=\"data row6 col1\" >8473</td>\n",
       "      <td id=\"T_92f84_row6_col2\" class=\"data row6 col2\" >Gollux Reedall</td>\n",
       "      <td id=\"T_92f84_row6_col3\" class=\"data row6 col3\" >2</td>\n",
       "    </tr>\n",
       "  </tbody>\n",
       "</table>\n"
      ],
      "text/plain": [
       "<pandas.io.formats.style.Styler at 0x277248e7d10>"
      ]
     },
     "metadata": {},
     "output_type": "display_data"
    },
    {
     "name": "stdout",
     "output_type": "stream",
     "text": [
      "################## DUPLICATES ##################\n",
      "🔁 Duplicate Rows: 0\n",
      "\n"
     ]
    }
   ],
   "source": [
    "def check_df(df, target=None, head=3):\n",
    "    pd.set_option(\"display.max_columns\", None)\n",
    "    pd.set_option(\"display.width\", 500)\n",
    "\n",
    "    print(\"#################### SHAPE ########################\")\n",
    "    print(f\"🔹 Rows: {df.shape[0]} | 🔹 Columns: {df.shape[1]}\\n\")\n",
    "    \n",
    "    print(\"#################### INFO #########################\")\n",
    "    print(df.info(), \"\\n\")\n",
    " \n",
    "    print(\"################## DESCRIPTIVE STATS (numerical) ##################\")\n",
    "    display(df.describe().T.style.background_gradient(cmap='PuBu'))\n",
    "    \n",
    "    print(\"################## DESCRIPTIVE STATS (categorical) ##################\")\n",
    "    display(df.describe(include='object').T.style.background_gradient(cmap='Oranges'))\n",
    "    \n",
    "    print(\"################## DUPLICATES ##################\")\n",
    "    print(f\"🔁 Duplicate Rows: {df.duplicated().sum()}\\n\")\n",
    "\n",
    "    if target and target in df.columns:\n",
    "        print(\"############ TARGET DISTRIBUTION ############\")\n",
    "        print(df[target].value_counts(), \"\\n\")\n",
    "\n",
    "check_df(train, target= 'survived')"
   ]
  },
  {
   "cell_type": "code",
   "execution_count": 6,
   "metadata": {},
   "outputs": [
    {
     "name": "stdout",
     "output_type": "stream",
     "text": [
      "PassengerId (8693 unique): ['0001_01' '0002_01' '0003_01' '0003_02' '0004_01']...\n",
      "HomePlanet (3 unique): ['Europa' 'Earth' 'Mars' nan]\n",
      "CryoSleep (2 unique): [False True nan]\n",
      "Cabin (6560 unique): ['B/0/P' 'F/0/S' 'A/0/S' 'F/1/S' 'F/0/P']...\n",
      "Destination (3 unique): ['TRAPPIST-1e' 'PSO J318.5-22' '55 Cancri e' nan]\n",
      "VIP (2 unique): [False True nan]\n",
      "Name (8473 unique): ['Maham Ofracculy' 'Juanna Vines' 'Altark Susent' 'Solam Susent'\n",
      " 'Willy Santantines']...\n"
     ]
    }
   ],
   "source": [
    "def show_unique_categories(df):\n",
    "    cat_cols = df.select_dtypes(include='object').columns\n",
    "    for col in cat_cols:\n",
    "        print(f\"{col} ({df[col].nunique()} unique): {df[col].unique()[:5]}{'...' if df[col].nunique() > 5 else ''}\")\n",
    "\n",
    "show_unique_categories(train)"
   ]
  },
  {
   "cell_type": "markdown",
   "metadata": {},
   "source": [
    "# **STEP 2: Data Cleaning**"
   ]
  },
  {
   "cell_type": "markdown",
   "metadata": {},
   "source": [
    "### **1️⃣Handle missing values**"
   ]
  },
  {
   "cell_type": "code",
   "execution_count": 7,
   "metadata": {},
   "outputs": [
    {
     "name": "stdout",
     "output_type": "stream",
     "text": [
      "\n",
      "Train missing values:\n",
      "HomePlanet      201\n",
      "CryoSleep       217\n",
      "Cabin           199\n",
      "Destination     182\n",
      "Age             179\n",
      "VIP             203\n",
      "RoomService     181\n",
      "FoodCourt       183\n",
      "ShoppingMall    208\n",
      "Spa             183\n",
      "VRDeck          188\n",
      "Name            200\n",
      "dtype: int64\n",
      "\n",
      "Test missing values:\n",
      "HomePlanet       87\n",
      "CryoSleep        93\n",
      "Cabin           100\n",
      "Destination      92\n",
      "Age              91\n",
      "VIP              93\n",
      "RoomService      82\n",
      "FoodCourt       106\n",
      "ShoppingMall     98\n",
      "Spa             101\n",
      "VRDeck           80\n",
      "Name             94\n",
      "dtype: int64\n"
     ]
    }
   ],
   "source": [
    "# let's drop or fill missing values\n",
    "for name, df in zip(['Train', 'Test'], [train, test]):\n",
    "    missing = df.isnull().sum()[df.isnull().sum() > 0]\n",
    "    if not missing.empty:\n",
    "        print(f\"\\n{name} missing values:\")\n",
    "        print(missing)\n",
    "    else:\n",
    "        print(f\"\\n{name} has no missing values ✅\")"
   ]
  },
  {
   "cell_type": "code",
   "execution_count": 8,
   "metadata": {},
   "outputs": [],
   "source": [
    "# Fill Age with median\n",
    "for df in [train,test]:\n",
    "    df['Age'] = df['Age'].fillna(df['Age'].median())"
   ]
  },
  {
   "cell_type": "code",
   "execution_count": 9,
   "metadata": {},
   "outputs": [],
   "source": [
    "# Fill categorical columns with mode\n",
    "categorical_cols = ['HomePlanet', 'Destination', 'CryoSleep', 'VIP']\n",
    "for df in [train,test]:\n",
    "    for col in categorical_cols :\n",
    "        df[col] = df[col].fillna(df[col].mode()[0])"
   ]
  },
  {
   "cell_type": "code",
   "execution_count": 10,
   "metadata": {},
   "outputs": [],
   "source": [
    "# Fill spending columns with 0\n",
    "spending_cols = ['RoomService','FoodCourt','ShoppingMall','Spa','VRDeck']\n",
    "for df in [train,test]:\n",
    "    for col in spending_cols :\n",
    "        df[col] = df[col].fillna(0)"
   ]
  },
  {
   "cell_type": "code",
   "execution_count": 11,
   "metadata": {},
   "outputs": [],
   "source": [
    "# Fill Cabin with 'Unknown/0/Unknown'\n",
    "for df in [train,test]:\n",
    "    df['Cabin'] = df['Cabin'].fillna('Unknown/0/Unknown')"
   ]
  },
  {
   "cell_type": "code",
   "execution_count": 12,
   "metadata": {},
   "outputs": [],
   "source": [
    "# Fill Name if needed\n",
    "for df in [train,test]:\n",
    "    df['Name'] = df['Name'].fillna('Unknown')"
   ]
  },
  {
   "cell_type": "code",
   "execution_count": 13,
   "metadata": {},
   "outputs": [
    {
     "name": "stdout",
     "output_type": "stream",
     "text": [
      "🔍 Missing values in TRAIN set:\n",
      "Series([], dtype: int64)\n",
      "\n",
      "🔍 Missing values in TEST set:\n",
      "Series([], dtype: int64)\n"
     ]
    }
   ],
   "source": [
    "print(\"🔍 Missing values in TRAIN set:\")\n",
    "print(train.isnull().sum()[train.isnull().sum() > 0])\n",
    "\n",
    "print(\"\\n🔍 Missing values in TEST set:\")\n",
    "print(test.isnull().sum()[test.isnull().sum() > 0])"
   ]
  },
  {
   "cell_type": "markdown",
   "metadata": {},
   "source": [
    "### **2️⃣ Remove duplicates**"
   ]
  },
  {
   "cell_type": "code",
   "execution_count": 14,
   "metadata": {},
   "outputs": [
    {
     "data": {
      "text/plain": [
       "0"
      ]
     },
     "execution_count": 14,
     "metadata": {},
     "output_type": "execute_result"
    }
   ],
   "source": [
    "# sanity check for duplicated values \n",
    "train.duplicated().sum()\n",
    "test.duplicated().sum()"
   ]
  },
  {
   "cell_type": "markdown",
   "metadata": {},
   "source": [
    "### **3️⃣ Remove features**"
   ]
  },
  {
   "cell_type": "code",
   "execution_count": 15,
   "metadata": {},
   "outputs": [],
   "source": [
    "# nothing to delete for now, we will delete some features after we extracted meaningful data in step 3"
   ]
  },
  {
   "cell_type": "markdown",
   "metadata": {},
   "source": [
    "### **4️⃣ Fix incorrect/inconsistent data**\n",
    "\n",
    "> Deals with wrong, inconsistent, or messy values (e.g., typos, inconsistent formats, leading/trailing spaces)."
   ]
  },
  {
   "cell_type": "code",
   "execution_count": 16,
   "metadata": {},
   "outputs": [],
   "source": [
    "# Remove Leading/Trailing Spaces from Text Columns\n",
    "for df in [train,test]:\n",
    "    cat_columns = df.select_dtypes(include=['object']).columns\n",
    "    df[cat_columns] = df[cat_columns].apply(lambda x: x.str.strip())"
   ]
  },
  {
   "cell_type": "markdown",
   "metadata": {},
   "source": [
    "# **STEP 3: Feature Engineering**\n",
    "- In this step, we create new meaningful features from existing data."
   ]
  },
  {
   "cell_type": "code",
   "execution_count": 17,
   "metadata": {},
   "outputs": [],
   "source": [
    "# cabin format: deck/number/side\n",
    "# split in 3 new features\n",
    "\n",
    "for df in [train,test]:\n",
    "    df[['Deck','Cabin_num','Side']] = df['Cabin'].str.split('/',expand=True)\n",
    "    # drop cabin feature\n",
    "    df.drop('Cabin',axis=1, inplace=True)\n",
    "train[['Deck','Cabin_num','Side']].value_counts()\n",
    "\n",
    "for df in [train, test]:\n",
    "    df['Cabin_num'] = pd.to_numeric(df['Cabin_num'], errors='coerce')"
   ]
  },
  {
   "cell_type": "code",
   "execution_count": 18,
   "metadata": {},
   "outputs": [],
   "source": [
    "# # TotalSpending\n",
    "spending_cols = ['RoomService','FoodCourt','ShoppingMall','Spa','VRDeck']\n",
    "for df in [train,test]:\n",
    "    df['TotalSpending'] = df[spending_cols].sum(axis=1)"
   ]
  },
  {
   "cell_type": "code",
   "execution_count": 19,
   "metadata": {},
   "outputs": [
    {
     "name": "stdout",
     "output_type": "stream",
     "text": [
      "AgeGroup\n",
      "Adult       6574\n",
      "Teenager    1059\n",
      "Child        806\n",
      "Senior       254\n",
      "Name: count, dtype: int64\n",
      "AgeGroup\n",
      "Adult       3258\n",
      "Teenager     544\n",
      "Child        351\n",
      "Senior       124\n",
      "Name: count, dtype: int64\n"
     ]
    }
   ],
   "source": [
    "# AgeGroup\n",
    "for df in [train,test]:\n",
    "    df['AgeGroup'] = pd.cut(\n",
    "        df['Age'], \n",
    "        bins=[-1,12,18,59,np.inf], \n",
    "        labels=['Child','Teenager','Adult','Senior']\n",
    "    )\n",
    "print(train['AgeGroup'].value_counts())\n",
    "print(test['AgeGroup'].value_counts())"
   ]
  },
  {
   "cell_type": "code",
   "execution_count": 20,
   "metadata": {},
   "outputs": [
    {
     "name": "stdout",
     "output_type": "stream",
     "text": [
      "  PassengerId Group  GroupSize\n",
      "0     0001_01  0001          1\n",
      "1     0002_01  0002          1\n",
      "2     0003_01  0003          2\n",
      "3     0003_02  0003          2\n",
      "4     0004_01  0004          1\n",
      "5     0005_01  0005          1\n",
      "6     0006_01  0006          2\n",
      "7     0006_02  0006          2\n",
      "8     0007_01  0007          1\n",
      "9     0008_01  0008          3\n",
      "  PassengerId Group  GroupSize\n",
      "0     0013_01  0013          1\n",
      "1     0018_01  0018          1\n",
      "2     0019_01  0019          1\n",
      "3     0021_01  0021          1\n",
      "4     0023_01  0023          1\n",
      "5     0027_01  0027          1\n",
      "6     0029_01  0029          1\n",
      "7     0032_01  0032          2\n",
      "8     0032_02  0032          2\n",
      "9     0033_01  0033          1\n"
     ]
    }
   ],
   "source": [
    "# Group\n",
    "for df in [train,test]:\n",
    "    df['Group'] = df['PassengerId'].apply(lambda x: x.split('_')[0])\n",
    "\n",
    "# GroupSize\n",
    "for df in [train,test]:\n",
    "    group_size = df['Group'].value_counts()\n",
    "    df['GroupSize'] = df['Group'].map(group_size)\n",
    "\n",
    "print(train[['PassengerId', 'Group', 'GroupSize']].head(10))\n",
    "print(test[['PassengerId', 'Group', 'GroupSize']].head(10))"
   ]
  },
  {
   "cell_type": "markdown",
   "metadata": {},
   "source": [
    "# **STEP 4: EDA**"
   ]
  },
  {
   "cell_type": "markdown",
   "metadata": {},
   "source": [
    "> EDA helps understand the distribution, relationships, and trends in data before applying machine learning or advanced analysis."
   ]
  },
  {
   "cell_type": "markdown",
   "metadata": {},
   "source": [
    "### **1️⃣ Outlier Detection**"
   ]
  },
  {
   "cell_type": "code",
   "execution_count": null,
   "metadata": {},
   "outputs": [],
   "source": [
    "train.describe().style.background_gradient(cmap='BrBG')"
   ]
  },
  {
   "cell_type": "code",
   "execution_count": null,
   "metadata": {},
   "outputs": [],
   "source": [
    "numeric_cols = ['Age', 'RoomService', 'FoodCourt', 'ShoppingMall', 'Spa', 'VRDeck', 'Cabin_num', 'TotalSpending', 'GroupSize']"
   ]
  },
  {
   "cell_type": "code",
   "execution_count": null,
   "metadata": {},
   "outputs": [],
   "source": [
    "# IDENTIFYING OUTLIERS using IQR since the data is skewed\n",
    "\n",
    "Q1 = train[numeric_cols].quantile(0.25)\n",
    "Q3 = train[numeric_cols].quantile(0.75)\n",
    "\n",
    "IQR = Q3 - Q1\n",
    "\n",
    "lower_bound = Q1 - 1.5 * IQR\n",
    "upper_bound = Q3 + 1.5 * IQR\n",
    "\n",
    "outliers_iqr = (\n",
    "    train[numeric_cols] < lower_bound) | (train[numeric_cols] > upper_bound)\n",
    "\n",
    "# Display rows where any column has an outlier\n",
    "outlier_detected = train.loc[outliers_iqr.any(axis=1), numeric_cols]\n",
    "display(outlier_detected)"
   ]
  },
  {
   "cell_type": "code",
   "execution_count": null,
   "metadata": {},
   "outputs": [],
   "source": [
    "# visualize outliers before capping\n",
    "plt.figure(figsize=(12, 6))\n",
    "sns.boxenplot(data=outlier_detected)\n",
    "plt.xticks(rotation=30)  # Rotates the x-axis labels\n",
    "plt.title(\"Outlier Detection Before Capping\")\n",
    "plt.show()\n",
    "\n",
    "# no further actions needed as all outliers are legit."
   ]
  },
  {
   "cell_type": "markdown",
   "metadata": {},
   "source": [
    "### **2️⃣ Numeric Distributions**"
   ]
  },
  {
   "cell_type": "code",
   "execution_count": null,
   "metadata": {},
   "outputs": [],
   "source": [
    "# Histogram\tCheck skewness & distribution shape\n",
    "train[numeric_cols].hist(bins=50, figsize=(12,8))\n",
    "plt.show()"
   ]
  },
  {
   "cell_type": "code",
   "execution_count": null,
   "metadata": {},
   "outputs": [],
   "source": [
    "plt.figure(figsize=(8,4))\n",
    "sns.kdeplot(train['Age'], shade=True, color='blue')\n",
    "plt.title('Age Distribution')\n",
    "plt.xlabel('Age')\n",
    "plt.ylabel('Density')\n",
    "plt.show()"
   ]
  },
  {
   "cell_type": "code",
   "execution_count": null,
   "metadata": {},
   "outputs": [],
   "source": [
    "plt.figure(figsize=(8,4))\n",
    "sns.kdeplot(train['TotalSpending'], shade=True, color='orange')\n",
    "plt.title('Total Spending Distribution')\n",
    "plt.xlabel('TotalSpending')\n",
    "plt.ylabel('Density')\n",
    "plt.show()"
   ]
  },
  {
   "cell_type": "code",
   "execution_count": null,
   "metadata": {},
   "outputs": [],
   "source": [
    "# Boxplot\tMedian, IQR, and outliers\n",
    "plt.figure(figsize=(10,6))\n",
    "sns.boxplot(data=train[numeric_cols])\n",
    "plt.xticks(rotation=30)"
   ]
  },
  {
   "cell_type": "code",
   "execution_count": null,
   "metadata": {},
   "outputs": [],
   "source": [
    "# Violin plot\tKDE + boxplot hybrid\n",
    "sns.violinplot(data=train[numeric_cols])"
   ]
  },
  {
   "cell_type": "markdown",
   "metadata": {},
   "source": [
    "### **3️⃣ Correlation Analysis**"
   ]
  },
  {
   "cell_type": "code",
   "execution_count": null,
   "metadata": {},
   "outputs": [],
   "source": [
    "plt.figure(figsize=(10,6))\n",
    "corr = train[numeric_cols].corr()\n",
    "sns.heatmap(corr, annot=True, cmap='coolwarm', fmt='.2f', linewidths=0.2)\n",
    "plt.title(\"Spaceship Feature Correlation Heatmap\")\n",
    "plt.show()"
   ]
  },
  {
   "cell_type": "code",
   "execution_count": null,
   "metadata": {},
   "outputs": [],
   "source": [
    "plt.figure(figsize=(8,5))\n",
    "sns.scatterplot(x='Age', y='TotalSpending', hue='Transported', data=train)\n",
    "plt.title(\"Age vs. TotalSpending\")\n",
    "plt.show()"
   ]
  },
  {
   "cell_type": "code",
   "execution_count": null,
   "metadata": {},
   "outputs": [],
   "source": [
    "sns.pairplot(data=train[['Age', 'Cabin_num', 'GroupSize', 'TotalSpending', 'Transported']], hue='Transported')\n",
    "plt.show()"
   ]
  },
  {
   "cell_type": "markdown",
   "metadata": {},
   "source": [
    "### **4️⃣ Grouped Comparison**"
   ]
  },
  {
   "cell_type": "code",
   "execution_count": null,
   "metadata": {},
   "outputs": [],
   "source": [
    "train.groupby('Transported')[['Age', 'Cabin_num', 'GroupSize', 'TotalSpending']].mean().plot(marker='o', figsize=(10,6))\n",
    "plt.ylabel(\"Mean Value\")\n",
    "plt.show()"
   ]
  },
  {
   "cell_type": "code",
   "execution_count": null,
   "metadata": {},
   "outputs": [],
   "source": [
    "sns.boxplot(x='Transported', y='Age', data=train, hue='Transported')"
   ]
  },
  {
   "cell_type": "code",
   "execution_count": null,
   "metadata": {},
   "outputs": [],
   "source": [
    "sns.boxplot(x='AgeGroup', y='TotalSpending', data=train)"
   ]
  },
  {
   "cell_type": "code",
   "execution_count": null,
   "metadata": {},
   "outputs": [],
   "source": [
    "train['AgeGroup'].value_counts().sort_index().plot(kind='bar', figsize=(10,6))\n",
    "plt.title(\"Passenger Count by Age Bin\")"
   ]
  },
  {
   "cell_type": "code",
   "execution_count": null,
   "metadata": {},
   "outputs": [],
   "source": [
    "plt.figure(figsize=(10,6))\n",
    "train.groupby('Transported')['TotalSpending'].mean().plot(marker='o', linestyle='--', color='red')\n",
    "plt.title(\"Average TotalSpending by Survival\")\n",
    "plt.xlabel(\"Transported\")\n",
    "plt.ylabel(\"Average TotalSpending\")\n",
    "plt.grid(True)\n",
    "plt.show()"
   ]
  },
  {
   "cell_type": "markdown",
   "metadata": {},
   "source": [
    "### **5️⃣ Categorical Distributions**"
   ]
  },
  {
   "cell_type": "code",
   "execution_count": null,
   "metadata": {},
   "outputs": [],
   "source": [
    "train.select_dtypes(include=['object'])"
   ]
  },
  {
   "cell_type": "code",
   "execution_count": null,
   "metadata": {},
   "outputs": [],
   "source": [
    "# Barplots for category frequency\tCheck class imbalance\n",
    "sns.countplot(x='HomePlanet', data=train)\n",
    "sns.countplot(x='Destination', data=train)"
   ]
  },
  {
   "cell_type": "code",
   "execution_count": null,
   "metadata": {},
   "outputs": [],
   "source": [
    "# Barplot (x=categorical, y=target)\tImpact on target variable (e.g., survival rate)\n",
    "sns.barplot(x='HomePlanet', y='Transported', data=train)\n",
    "sns.barplot(x='Destination', y='Transported', data=train)"
   ]
  },
  {
   "cell_type": "code",
   "execution_count": null,
   "metadata": {},
   "outputs": [],
   "source": [
    "# Countplots with hue\tCategorical variable split by target\n",
    "sns.countplot(x='HomePlanet', hue='Transported', data=train)\n",
    "sns.countplot(x='Destination', hue='Transported', data=train)"
   ]
  },
  {
   "cell_type": "markdown",
   "metadata": {},
   "source": [
    "### **6️⃣ Target Variable Distribution**"
   ]
  },
  {
   "cell_type": "code",
   "execution_count": null,
   "metadata": {},
   "outputs": [],
   "source": [
    "# Class balance check (especially for classification)\n",
    "train['Transported'].value_counts()"
   ]
  },
  {
   "cell_type": "code",
   "execution_count": null,
   "metadata": {},
   "outputs": [],
   "source": [
    "train['Transported'].value_counts().plot(kind='bar', color=['crimson', 'teal'])\n",
    "plt.title(\"Survival Count\")\n",
    "plt.xlabel(\"Survived\")\n",
    "plt.ylabel(\"Number of Passengers\")\n",
    "plt.xticks([0, 1], ['No', 'Yes'], rotation=0)\n",
    "plt.show()"
   ]
  },
  {
   "cell_type": "code",
   "execution_count": null,
   "metadata": {},
   "outputs": [],
   "source": [
    "# Visualize with pie or bar chart\tQuick overview\n",
    "train['Transported'].value_counts().plot(\n",
    "    kind='pie',\n",
    "    autopct='%1.1f%%',\n",
    "    startangle=90,\n",
    "    labels=['Did Not Survive', 'Survived'],\n",
    "    colors=['lightcoral', 'lightseagreen']\n",
    ")\n",
    "plt.ylabel('')\n",
    "plt.title(\"Survival Distribution\")\n",
    "plt.show()"
   ]
  },
  {
   "cell_type": "markdown",
   "metadata": {},
   "source": [
    "# **STEP 5: Data Preprocessing**"
   ]
  },
  {
   "cell_type": "code",
   "execution_count": 21,
   "metadata": {},
   "outputs": [],
   "source": [
    "# Encoding for (Categorical Data)\n",
    "\n",
    "# Mapping Booleans:\n",
    "# bool_cols = ['CryoSleep','VIP']\n",
    "# for df in [train, test]:\n",
    "#     for col in bool_cols:\n",
    "#         df[col] = df[col].map({True:1,False:0})\n",
    "\n",
    "# One-hot encoding categoricals:\n",
    "categorical_cols = ['HomePlanet', 'Destination', 'Deck', 'Side','AgeGroup']\n",
    "train = pd.get_dummies(train, columns=categorical_cols, drop_first=True)\n",
    "test = pd.get_dummies(test, columns=categorical_cols, drop_first=True)"
   ]
  },
  {
   "cell_type": "markdown",
   "metadata": {},
   "source": [
    "# **Step 6: Feature Selection**\n",
    "- We use multiple methods to determine which features should be kept and which ones can be dropped."
   ]
  },
  {
   "cell_type": "code",
   "execution_count": 22,
   "metadata": {},
   "outputs": [],
   "source": [
    "# dropping useless cols\n",
    "drop_cols = ['Name', 'Group']\n",
    "for df in [train,test]:\n",
    "    df.drop(columns=drop_cols, inplace=True)"
   ]
  },
  {
   "cell_type": "code",
   "execution_count": 23,
   "metadata": {},
   "outputs": [
    {
     "data": {
      "application/vnd.microsoft.datawrangler.viewer.v0+json": {
       "columns": [
        {
         "name": "index",
         "rawType": "int64",
         "type": "integer"
        },
        {
         "name": "PassengerId",
         "rawType": "object",
         "type": "string"
        },
        {
         "name": "CryoSleep",
         "rawType": "bool",
         "type": "boolean"
        },
        {
         "name": "Age",
         "rawType": "float64",
         "type": "float"
        },
        {
         "name": "VIP",
         "rawType": "bool",
         "type": "boolean"
        },
        {
         "name": "RoomService",
         "rawType": "float64",
         "type": "float"
        },
        {
         "name": "FoodCourt",
         "rawType": "float64",
         "type": "float"
        },
        {
         "name": "ShoppingMall",
         "rawType": "float64",
         "type": "float"
        },
        {
         "name": "Spa",
         "rawType": "float64",
         "type": "float"
        },
        {
         "name": "VRDeck",
         "rawType": "float64",
         "type": "float"
        },
        {
         "name": "Transported",
         "rawType": "bool",
         "type": "boolean"
        },
        {
         "name": "Cabin_num",
         "rawType": "int64",
         "type": "integer"
        },
        {
         "name": "TotalSpending",
         "rawType": "float64",
         "type": "float"
        },
        {
         "name": "GroupSize",
         "rawType": "int64",
         "type": "integer"
        },
        {
         "name": "HomePlanet_Europa",
         "rawType": "bool",
         "type": "boolean"
        },
        {
         "name": "HomePlanet_Mars",
         "rawType": "bool",
         "type": "boolean"
        },
        {
         "name": "Destination_PSO J318.5-22",
         "rawType": "bool",
         "type": "boolean"
        },
        {
         "name": "Destination_TRAPPIST-1e",
         "rawType": "bool",
         "type": "boolean"
        },
        {
         "name": "Deck_B",
         "rawType": "bool",
         "type": "boolean"
        },
        {
         "name": "Deck_C",
         "rawType": "bool",
         "type": "boolean"
        },
        {
         "name": "Deck_D",
         "rawType": "bool",
         "type": "boolean"
        },
        {
         "name": "Deck_E",
         "rawType": "bool",
         "type": "boolean"
        },
        {
         "name": "Deck_F",
         "rawType": "bool",
         "type": "boolean"
        },
        {
         "name": "Deck_G",
         "rawType": "bool",
         "type": "boolean"
        },
        {
         "name": "Deck_T",
         "rawType": "bool",
         "type": "boolean"
        },
        {
         "name": "Deck_Unknown",
         "rawType": "bool",
         "type": "boolean"
        },
        {
         "name": "Side_S",
         "rawType": "bool",
         "type": "boolean"
        },
        {
         "name": "Side_Unknown",
         "rawType": "bool",
         "type": "boolean"
        },
        {
         "name": "AgeGroup_Teenager",
         "rawType": "bool",
         "type": "boolean"
        },
        {
         "name": "AgeGroup_Adult",
         "rawType": "bool",
         "type": "boolean"
        },
        {
         "name": "AgeGroup_Senior",
         "rawType": "bool",
         "type": "boolean"
        }
       ],
       "conversionMethod": "pd.DataFrame",
       "ref": "29810b78-571b-40b0-b7df-c0e7a2059fe8",
       "rows": [
        [
         "0",
         "0001_01",
         "False",
         "39.0",
         "False",
         "0.0",
         "0.0",
         "0.0",
         "0.0",
         "0.0",
         "False",
         "0",
         "0.0",
         "1",
         "True",
         "False",
         "False",
         "True",
         "True",
         "False",
         "False",
         "False",
         "False",
         "False",
         "False",
         "False",
         "False",
         "False",
         "False",
         "True",
         "False"
        ],
        [
         "1",
         "0002_01",
         "False",
         "24.0",
         "False",
         "109.0",
         "9.0",
         "25.0",
         "549.0",
         "44.0",
         "True",
         "0",
         "736.0",
         "1",
         "False",
         "False",
         "False",
         "True",
         "False",
         "False",
         "False",
         "False",
         "True",
         "False",
         "False",
         "False",
         "True",
         "False",
         "False",
         "True",
         "False"
        ],
        [
         "2",
         "0003_01",
         "False",
         "58.0",
         "True",
         "43.0",
         "3576.0",
         "0.0",
         "6715.0",
         "49.0",
         "False",
         "0",
         "10383.0",
         "2",
         "True",
         "False",
         "False",
         "True",
         "False",
         "False",
         "False",
         "False",
         "False",
         "False",
         "False",
         "False",
         "True",
         "False",
         "False",
         "True",
         "False"
        ],
        [
         "3",
         "0003_02",
         "False",
         "33.0",
         "False",
         "0.0",
         "1283.0",
         "371.0",
         "3329.0",
         "193.0",
         "False",
         "0",
         "5176.0",
         "2",
         "True",
         "False",
         "False",
         "True",
         "False",
         "False",
         "False",
         "False",
         "False",
         "False",
         "False",
         "False",
         "True",
         "False",
         "False",
         "True",
         "False"
        ],
        [
         "4",
         "0004_01",
         "False",
         "16.0",
         "False",
         "303.0",
         "70.0",
         "151.0",
         "565.0",
         "2.0",
         "True",
         "1",
         "1091.0",
         "1",
         "False",
         "False",
         "False",
         "True",
         "False",
         "False",
         "False",
         "False",
         "True",
         "False",
         "False",
         "False",
         "True",
         "False",
         "True",
         "False",
         "False"
        ]
       ],
       "shape": {
        "columns": 30,
        "rows": 5
       }
      },
      "text/html": [
       "<div>\n",
       "<style scoped>\n",
       "    .dataframe tbody tr th:only-of-type {\n",
       "        vertical-align: middle;\n",
       "    }\n",
       "\n",
       "    .dataframe tbody tr th {\n",
       "        vertical-align: top;\n",
       "    }\n",
       "\n",
       "    .dataframe thead th {\n",
       "        text-align: right;\n",
       "    }\n",
       "</style>\n",
       "<table border=\"1\" class=\"dataframe\">\n",
       "  <thead>\n",
       "    <tr style=\"text-align: right;\">\n",
       "      <th></th>\n",
       "      <th>PassengerId</th>\n",
       "      <th>CryoSleep</th>\n",
       "      <th>Age</th>\n",
       "      <th>VIP</th>\n",
       "      <th>RoomService</th>\n",
       "      <th>FoodCourt</th>\n",
       "      <th>ShoppingMall</th>\n",
       "      <th>Spa</th>\n",
       "      <th>VRDeck</th>\n",
       "      <th>Transported</th>\n",
       "      <th>Cabin_num</th>\n",
       "      <th>TotalSpending</th>\n",
       "      <th>GroupSize</th>\n",
       "      <th>HomePlanet_Europa</th>\n",
       "      <th>HomePlanet_Mars</th>\n",
       "      <th>Destination_PSO J318.5-22</th>\n",
       "      <th>Destination_TRAPPIST-1e</th>\n",
       "      <th>Deck_B</th>\n",
       "      <th>Deck_C</th>\n",
       "      <th>Deck_D</th>\n",
       "      <th>Deck_E</th>\n",
       "      <th>Deck_F</th>\n",
       "      <th>Deck_G</th>\n",
       "      <th>Deck_T</th>\n",
       "      <th>Deck_Unknown</th>\n",
       "      <th>Side_S</th>\n",
       "      <th>Side_Unknown</th>\n",
       "      <th>AgeGroup_Teenager</th>\n",
       "      <th>AgeGroup_Adult</th>\n",
       "      <th>AgeGroup_Senior</th>\n",
       "    </tr>\n",
       "  </thead>\n",
       "  <tbody>\n",
       "    <tr>\n",
       "      <th>0</th>\n",
       "      <td>0001_01</td>\n",
       "      <td>False</td>\n",
       "      <td>39.0</td>\n",
       "      <td>False</td>\n",
       "      <td>0.0</td>\n",
       "      <td>0.0</td>\n",
       "      <td>0.0</td>\n",
       "      <td>0.0</td>\n",
       "      <td>0.0</td>\n",
       "      <td>False</td>\n",
       "      <td>0</td>\n",
       "      <td>0.0</td>\n",
       "      <td>1</td>\n",
       "      <td>True</td>\n",
       "      <td>False</td>\n",
       "      <td>False</td>\n",
       "      <td>True</td>\n",
       "      <td>True</td>\n",
       "      <td>False</td>\n",
       "      <td>False</td>\n",
       "      <td>False</td>\n",
       "      <td>False</td>\n",
       "      <td>False</td>\n",
       "      <td>False</td>\n",
       "      <td>False</td>\n",
       "      <td>False</td>\n",
       "      <td>False</td>\n",
       "      <td>False</td>\n",
       "      <td>True</td>\n",
       "      <td>False</td>\n",
       "    </tr>\n",
       "    <tr>\n",
       "      <th>1</th>\n",
       "      <td>0002_01</td>\n",
       "      <td>False</td>\n",
       "      <td>24.0</td>\n",
       "      <td>False</td>\n",
       "      <td>109.0</td>\n",
       "      <td>9.0</td>\n",
       "      <td>25.0</td>\n",
       "      <td>549.0</td>\n",
       "      <td>44.0</td>\n",
       "      <td>True</td>\n",
       "      <td>0</td>\n",
       "      <td>736.0</td>\n",
       "      <td>1</td>\n",
       "      <td>False</td>\n",
       "      <td>False</td>\n",
       "      <td>False</td>\n",
       "      <td>True</td>\n",
       "      <td>False</td>\n",
       "      <td>False</td>\n",
       "      <td>False</td>\n",
       "      <td>False</td>\n",
       "      <td>True</td>\n",
       "      <td>False</td>\n",
       "      <td>False</td>\n",
       "      <td>False</td>\n",
       "      <td>True</td>\n",
       "      <td>False</td>\n",
       "      <td>False</td>\n",
       "      <td>True</td>\n",
       "      <td>False</td>\n",
       "    </tr>\n",
       "    <tr>\n",
       "      <th>2</th>\n",
       "      <td>0003_01</td>\n",
       "      <td>False</td>\n",
       "      <td>58.0</td>\n",
       "      <td>True</td>\n",
       "      <td>43.0</td>\n",
       "      <td>3576.0</td>\n",
       "      <td>0.0</td>\n",
       "      <td>6715.0</td>\n",
       "      <td>49.0</td>\n",
       "      <td>False</td>\n",
       "      <td>0</td>\n",
       "      <td>10383.0</td>\n",
       "      <td>2</td>\n",
       "      <td>True</td>\n",
       "      <td>False</td>\n",
       "      <td>False</td>\n",
       "      <td>True</td>\n",
       "      <td>False</td>\n",
       "      <td>False</td>\n",
       "      <td>False</td>\n",
       "      <td>False</td>\n",
       "      <td>False</td>\n",
       "      <td>False</td>\n",
       "      <td>False</td>\n",
       "      <td>False</td>\n",
       "      <td>True</td>\n",
       "      <td>False</td>\n",
       "      <td>False</td>\n",
       "      <td>True</td>\n",
       "      <td>False</td>\n",
       "    </tr>\n",
       "    <tr>\n",
       "      <th>3</th>\n",
       "      <td>0003_02</td>\n",
       "      <td>False</td>\n",
       "      <td>33.0</td>\n",
       "      <td>False</td>\n",
       "      <td>0.0</td>\n",
       "      <td>1283.0</td>\n",
       "      <td>371.0</td>\n",
       "      <td>3329.0</td>\n",
       "      <td>193.0</td>\n",
       "      <td>False</td>\n",
       "      <td>0</td>\n",
       "      <td>5176.0</td>\n",
       "      <td>2</td>\n",
       "      <td>True</td>\n",
       "      <td>False</td>\n",
       "      <td>False</td>\n",
       "      <td>True</td>\n",
       "      <td>False</td>\n",
       "      <td>False</td>\n",
       "      <td>False</td>\n",
       "      <td>False</td>\n",
       "      <td>False</td>\n",
       "      <td>False</td>\n",
       "      <td>False</td>\n",
       "      <td>False</td>\n",
       "      <td>True</td>\n",
       "      <td>False</td>\n",
       "      <td>False</td>\n",
       "      <td>True</td>\n",
       "      <td>False</td>\n",
       "    </tr>\n",
       "    <tr>\n",
       "      <th>4</th>\n",
       "      <td>0004_01</td>\n",
       "      <td>False</td>\n",
       "      <td>16.0</td>\n",
       "      <td>False</td>\n",
       "      <td>303.0</td>\n",
       "      <td>70.0</td>\n",
       "      <td>151.0</td>\n",
       "      <td>565.0</td>\n",
       "      <td>2.0</td>\n",
       "      <td>True</td>\n",
       "      <td>1</td>\n",
       "      <td>1091.0</td>\n",
       "      <td>1</td>\n",
       "      <td>False</td>\n",
       "      <td>False</td>\n",
       "      <td>False</td>\n",
       "      <td>True</td>\n",
       "      <td>False</td>\n",
       "      <td>False</td>\n",
       "      <td>False</td>\n",
       "      <td>False</td>\n",
       "      <td>True</td>\n",
       "      <td>False</td>\n",
       "      <td>False</td>\n",
       "      <td>False</td>\n",
       "      <td>True</td>\n",
       "      <td>False</td>\n",
       "      <td>True</td>\n",
       "      <td>False</td>\n",
       "      <td>False</td>\n",
       "    </tr>\n",
       "  </tbody>\n",
       "</table>\n",
       "</div>"
      ],
      "text/plain": [
       "  PassengerId  CryoSleep   Age    VIP  RoomService  FoodCourt  ShoppingMall     Spa  VRDeck  Transported  Cabin_num  TotalSpending  GroupSize  HomePlanet_Europa  HomePlanet_Mars  Destination_PSO J318.5-22  Destination_TRAPPIST-1e  Deck_B  Deck_C  Deck_D  Deck_E  Deck_F  Deck_G  Deck_T  Deck_Unknown  Side_S  Side_Unknown  AgeGroup_Teenager  AgeGroup_Adult  AgeGroup_Senior\n",
       "0     0001_01      False  39.0  False          0.0        0.0           0.0     0.0     0.0        False          0            0.0          1               True            False                      False                     True    True   False   False   False   False   False   False         False   False         False              False            True            False\n",
       "1     0002_01      False  24.0  False        109.0        9.0          25.0   549.0    44.0         True          0          736.0          1              False            False                      False                     True   False   False   False   False    True   False   False         False    True         False              False            True            False\n",
       "2     0003_01      False  58.0   True         43.0     3576.0           0.0  6715.0    49.0        False          0        10383.0          2               True            False                      False                     True   False   False   False   False   False   False   False         False    True         False              False            True            False\n",
       "3     0003_02      False  33.0  False          0.0     1283.0         371.0  3329.0   193.0        False          0         5176.0          2               True            False                      False                     True   False   False   False   False   False   False   False         False    True         False              False            True            False\n",
       "4     0004_01      False  16.0  False        303.0       70.0         151.0   565.0     2.0         True          1         1091.0          1              False            False                      False                     True   False   False   False   False    True   False   False         False    True         False               True           False            False"
      ]
     },
     "execution_count": 23,
     "metadata": {},
     "output_type": "execute_result"
    }
   ],
   "source": [
    "train.head()"
   ]
  },
  {
   "cell_type": "code",
   "execution_count": 24,
   "metadata": {},
   "outputs": [
    {
     "data": {
      "text/plain": [
       "Transported                  1.000000\n",
       "CryoSleep                    0.460132\n",
       "HomePlanet_Europa            0.176916\n",
       "Deck_B                       0.144733\n",
       "Deck_C                       0.108193\n",
       "Side_S                       0.101455\n",
       "GroupSize                    0.082644\n",
       "FoodCourt                    0.045583\n",
       "AgeGroup_Teenager            0.025086\n",
       "PassengerId                  0.021491\n",
       "HomePlanet_Mars              0.019544\n",
       "Deck_G                       0.016269\n",
       "ShoppingMall                 0.009391\n",
       "Destination_PSO J318.5-22    0.000092\n",
       "Deck_Unknown                -0.000340\n",
       "Side_Unknown                -0.000340\n",
       "AgeGroup_Senior             -0.012186\n",
       "Deck_T                      -0.014568\n",
       "Deck_D                      -0.034046\n",
       "VIP                         -0.037261\n",
       "Cabin_num                   -0.043832\n",
       "Age                         -0.074233\n",
       "Deck_F                      -0.087753\n",
       "Destination_TRAPPIST-1e     -0.096319\n",
       "Deck_E                      -0.097965\n",
       "AgeGroup_Adult              -0.099041\n",
       "TotalSpending               -0.199514\n",
       "VRDeck                      -0.204874\n",
       "Spa                         -0.218545\n",
       "RoomService                 -0.241124\n",
       "Name: Transported, dtype: float64"
      ]
     },
     "execution_count": 24,
     "metadata": {},
     "output_type": "execute_result"
    }
   ],
   "source": [
    "# Check correlation with Survived\n",
    "train.corr()['Transported'].sort_values(ascending=False)"
   ]
  },
  {
   "cell_type": "code",
   "execution_count": 25,
   "metadata": {},
   "outputs": [
    {
     "data": {
      "image/png": "[encoded data removed]",
      "text/plain": [
       "<Figure size 1000x600 with 1 Axes>"
      ]
     },
     "metadata": {},
     "output_type": "display_data"
    }
   ],
   "source": [
    "# Check Feature Importance Using a Random Forest Model\n",
    "\n",
    "dfc_copy = train.copy()\n",
    "# Prepare data (Remove non-numeric columns)\n",
    "df_importance = dfc_copy.dropna()\n",
    "\n",
    "# Define Features (X) and Target (y)\n",
    "X = df_importance.drop(columns=['Transported'])  # Predicting Salary (TotalPay)\n",
    "y = df_importance['Transported']\n",
    "\n",
    "# Train a Random Forest Model\n",
    "model = RandomForestRegressor(n_estimators=100, random_state=42)\n",
    "model.fit(X, y)\n",
    "\n",
    "# Get Feature Importance Scores\n",
    "feature_importance = pd.Series(model.feature_importances_, index=X.columns).sort_values(ascending=False)\n",
    "\n",
    "# Plot Feature Importance\n",
    "feature_importance.plot(kind='bar', figsize=(10,6), color='teal')\n",
    "plt.title(\"Feature Importance for Salary Prediction\")\n",
    "plt.xlabel(\"Features\")\n",
    "plt.ylabel(\"Importance Score\")\n",
    "plt.show()"
   ]
  },
  {
   "cell_type": "markdown",
   "metadata": {},
   "source": [
    "# **STEP 7: Modeling**"
   ]
  },
  {
   "cell_type": "code",
   "execution_count": 27,
   "metadata": {},
   "outputs": [
    {
     "name": "stdout",
     "output_type": "stream",
     "text": [
      "(8693, 28) (8693,)\n"
     ]
    }
   ],
   "source": [
    "# Splitting Data into Training, Validation, and Test Sets\n",
    "\n",
    "# Define Features (X) and Target (y)\n",
    "X = train.drop(columns=['Transported','PassengerId'])  \n",
    "y = train['Transported']  \n",
    "print(X.shape, y.shape)"
   ]
  },
  {
   "cell_type": "code",
   "execution_count": 28,
   "metadata": {},
   "outputs": [
    {
     "name": "stdout",
     "output_type": "stream",
     "text": [
      "(6954, 28) (1739, 28) (6954,) (1739,)\n"
     ]
    }
   ],
   "source": [
    "# Split into Train (70%), Validation (15%), and Test (15%)\n",
    "# X_train, X_temp, y_train, y_temp = train_test_split(X, y, test_size=0.30, random_state=42)\n",
    "# X_val, X_test, y_val, y_test = train_test_split(X_temp, y_temp, test_size=0.50, random_state=42)\n",
    "\n",
    "\n",
    "X_train, X_val, y_train, y_val = train_test_split(X, y, test_size=0.2, stratify=y, random_state=42)\n",
    "print(X_train.shape, X_val.shape, y_train.shape, y_val.shape)"
   ]
  },
  {
   "cell_type": "code",
   "execution_count": 33,
   "metadata": {},
   "outputs": [
    {
     "data": {
      "text/plain": [
       "Index(['CryoSleep', 'Age', 'VIP', 'RoomService', 'FoodCourt', 'ShoppingMall', 'Spa', 'VRDeck', 'Cabin_num', 'TotalSpending', 'GroupSize', 'HomePlanet_Europa', 'HomePlanet_Mars', 'Destination_PSO J318.5-22', 'Destination_TRAPPIST-1e', 'Deck_B', 'Deck_C', 'Deck_D', 'Deck_E', 'Deck_F', 'Deck_G', 'Deck_T', 'Deck_Unknown', 'Side_S', 'Side_Unknown', 'AgeGroup_Teenager', 'AgeGroup_Adult', 'AgeGroup_Senior'], dtype='object')"
      ]
     },
     "execution_count": 33,
     "metadata": {},
     "output_type": "execute_result"
    }
   ],
   "source": [
    "# matching test columns with train set\n",
    "test = test.reindex(columns=train.drop(['Transported','PassengerId'], axis=1).columns, fill_value=0)\n",
    "test.columns"
   ]
  },
  {
   "cell_type": "code",
   "execution_count": 34,
   "metadata": {},
   "outputs": [
    {
     "name": "stdout",
     "output_type": "stream",
     "text": [
      "Scaler saved successfully!\n"
     ]
    }
   ],
   "source": [
    "# to avoid data leakage and ensure that our model generalizes well.\n",
    "scaler = MinMaxScaler()\n",
    "# computing the mean and std only from the training set, avoiding data leakage.\n",
    "X_train_scaled = scaler.fit_transform(X_train)  # ✅ Fit on training data\n",
    "X_val_scaled  = scaler.transform(X_val) # ✅ Transform validation (unseen) data\n",
    "X_test_scaled = scaler.transform(test) # ✅ Transform Kaggle test data (also unseen)\n",
    "joblib.dump(scaler, \"scaler.pkl\")\n",
    "print(\"Scaler saved successfully!\")"
   ]
  },
  {
   "cell_type": "code",
   "execution_count": 36,
   "metadata": {},
   "outputs": [
    {
     "name": "stdout",
     "output_type": "stream",
     "text": [
      "🔍 Modeling: Logistic Regression\n",
      "🔍 Modeling: Random Forest\n",
      "🔍 Modeling: Decision Tree\n",
      "🔍 Modeling: Gradient Boosting\n",
      "🔍 Modeling: AdaBoost\n",
      "🔍 Modeling: SVM (Linear Kernel)\n",
      "🔍 Modeling: KNN\n",
      "🔍 Modeling: XGBoost\n",
      "🔍 Modeling: LightGBM\n"
     ]
    },
    {
     "data": {
      "application/vnd.microsoft.datawrangler.viewer.v0+json": {
       "columns": [
        {
         "name": "index",
         "rawType": "int64",
         "type": "integer"
        },
        {
         "name": "Model",
         "rawType": "object",
         "type": "string"
        },
        {
         "name": "Accuracy",
         "rawType": "float64",
         "type": "float"
        },
        {
         "name": "Precision",
         "rawType": "float64",
         "type": "float"
        },
        {
         "name": "Recall",
         "rawType": "float64",
         "type": "float"
        },
        {
         "name": "F1 Score",
         "rawType": "float64",
         "type": "float"
        }
       ],
       "conversionMethod": "pd.DataFrame",
       "ref": "5ea9e246-4722-4eec-b698-0a9225913a9f",
       "rows": [
        [
         "7",
         "XGBoost",
         "0.8194",
         "0.8196",
         "0.8195",
         "0.8194"
        ],
        [
         "8",
         "LightGBM",
         "0.8102",
         "0.8103",
         "0.8102",
         "0.8102"
        ],
        [
         "1",
         "Random Forest",
         "0.8033",
         "0.8047",
         "0.8036",
         "0.8032"
        ],
        [
         "3",
         "Gradient Boosting",
         "0.7993",
         "0.7994",
         "0.7992",
         "0.7993"
        ],
        [
         "4",
         "AdaBoost",
         "0.7964",
         "0.7978",
         "0.7962",
         "0.7961"
        ],
        [
         "5",
         "SVM (Linear Kernel)",
         "0.7648",
         "0.769",
         "0.7653",
         "0.7641"
        ],
        [
         "0",
         "Logistic Regression",
         "0.7625",
         "0.7659",
         "0.7629",
         "0.7619"
        ],
        [
         "6",
         "KNN",
         "0.7608",
         "0.7631",
         "0.7611",
         "0.7604"
        ],
        [
         "2",
         "Decision Tree",
         "0.7481",
         "0.7481",
         "0.7481",
         "0.7481"
        ]
       ],
       "shape": {
        "columns": 5,
        "rows": 9
       }
      },
      "text/html": [
       "<div>\n",
       "<style scoped>\n",
       "    .dataframe tbody tr th:only-of-type {\n",
       "        vertical-align: middle;\n",
       "    }\n",
       "\n",
       "    .dataframe tbody tr th {\n",
       "        vertical-align: top;\n",
       "    }\n",
       "\n",
       "    .dataframe thead th {\n",
       "        text-align: right;\n",
       "    }\n",
       "</style>\n",
       "<table border=\"1\" class=\"dataframe\">\n",
       "  <thead>\n",
       "    <tr style=\"text-align: right;\">\n",
       "      <th></th>\n",
       "      <th>Model</th>\n",
       "      <th>Accuracy</th>\n",
       "      <th>Precision</th>\n",
       "      <th>Recall</th>\n",
       "      <th>F1 Score</th>\n",
       "    </tr>\n",
       "  </thead>\n",
       "  <tbody>\n",
       "    <tr>\n",
       "      <th>7</th>\n",
       "      <td>XGBoost</td>\n",
       "      <td>0.8194</td>\n",
       "      <td>0.8196</td>\n",
       "      <td>0.8195</td>\n",
       "      <td>0.8194</td>\n",
       "    </tr>\n",
       "    <tr>\n",
       "      <th>8</th>\n",
       "      <td>LightGBM</td>\n",
       "      <td>0.8102</td>\n",
       "      <td>0.8103</td>\n",
       "      <td>0.8102</td>\n",
       "      <td>0.8102</td>\n",
       "    </tr>\n",
       "    <tr>\n",
       "      <th>1</th>\n",
       "      <td>Random Forest</td>\n",
       "      <td>0.8033</td>\n",
       "      <td>0.8047</td>\n",
       "      <td>0.8036</td>\n",
       "      <td>0.8032</td>\n",
       "    </tr>\n",
       "    <tr>\n",
       "      <th>3</th>\n",
       "      <td>Gradient Boosting</td>\n",
       "      <td>0.7993</td>\n",
       "      <td>0.7994</td>\n",
       "      <td>0.7992</td>\n",
       "      <td>0.7993</td>\n",
       "    </tr>\n",
       "    <tr>\n",
       "      <th>4</th>\n",
       "      <td>AdaBoost</td>\n",
       "      <td>0.7964</td>\n",
       "      <td>0.7978</td>\n",
       "      <td>0.7962</td>\n",
       "      <td>0.7961</td>\n",
       "    </tr>\n",
       "    <tr>\n",
       "      <th>5</th>\n",
       "      <td>SVM (Linear Kernel)</td>\n",
       "      <td>0.7648</td>\n",
       "      <td>0.7690</td>\n",
       "      <td>0.7653</td>\n",
       "      <td>0.7641</td>\n",
       "    </tr>\n",
       "    <tr>\n",
       "      <th>0</th>\n",
       "      <td>Logistic Regression</td>\n",
       "      <td>0.7625</td>\n",
       "      <td>0.7659</td>\n",
       "      <td>0.7629</td>\n",
       "      <td>0.7619</td>\n",
       "    </tr>\n",
       "    <tr>\n",
       "      <th>6</th>\n",
       "      <td>KNN</td>\n",
       "      <td>0.7608</td>\n",
       "      <td>0.7631</td>\n",
       "      <td>0.7611</td>\n",
       "      <td>0.7604</td>\n",
       "    </tr>\n",
       "    <tr>\n",
       "      <th>2</th>\n",
       "      <td>Decision Tree</td>\n",
       "      <td>0.7481</td>\n",
       "      <td>0.7481</td>\n",
       "      <td>0.7481</td>\n",
       "      <td>0.7481</td>\n",
       "    </tr>\n",
       "  </tbody>\n",
       "</table>\n",
       "</div>"
      ],
      "text/plain": [
       "                 Model  Accuracy  Precision  Recall  F1 Score\n",
       "7              XGBoost    0.8194     0.8196  0.8195    0.8194\n",
       "8             LightGBM    0.8102     0.8103  0.8102    0.8102\n",
       "1        Random Forest    0.8033     0.8047  0.8036    0.8032\n",
       "3    Gradient Boosting    0.7993     0.7994  0.7992    0.7993\n",
       "4             AdaBoost    0.7964     0.7978  0.7962    0.7961\n",
       "5  SVM (Linear Kernel)    0.7648     0.7690  0.7653    0.7641\n",
       "0  Logistic Regression    0.7625     0.7659  0.7629    0.7619\n",
       "6                  KNN    0.7608     0.7631  0.7611    0.7604\n",
       "2        Decision Tree    0.7481     0.7481  0.7481    0.7481"
      ]
     },
     "execution_count": 36,
     "metadata": {},
     "output_type": "execute_result"
    }
   ],
   "source": [
    "models = {\n",
    "    \"Logistic Regression\": LogisticRegression(),\n",
    "    \"Random Forest\": RandomForestClassifier(n_estimators=30, max_features=\"sqrt\", random_state=42),\n",
    "    \"Decision Tree\": DecisionTreeClassifier(random_state=42),\n",
    "    \"Gradient Boosting\": GradientBoostingClassifier(random_state=42),\n",
    "    \"AdaBoost\": AdaBoostClassifier(random_state=42),\n",
    "    \"SVM (Linear Kernel)\": SVC(kernel='linear', probability=True, random_state=42),\n",
    "    \"KNN\": KNeighborsClassifier(n_neighbors=5),\n",
    "    \"XGBoost\": XGBClassifier(use_label_encoder=False, eval_metric='logloss', random_state=42),\n",
    "    \"LightGBM\": LGBMClassifier(random_state=42,verbose=-1)\n",
    "}\n",
    "\n",
    "classification_results = []\n",
    "\n",
    "for name, model in models.items():\n",
    "    print(f\"🔍 Modeling: {name}\")\n",
    "    model.fit(X_train_scaled, y_train)\n",
    "    y_pred = model.predict(X_val_scaled)\n",
    "\n",
    "    summary = {\n",
    "        \"Model\": name,\n",
    "        \"Accuracy\": round(accuracy_score(y_val, y_pred), 4),\n",
    "        \"Precision\": round(precision_score(y_val, y_pred, average='macro'), 4),\n",
    "        \"Recall\": round(recall_score(y_val, y_pred, average='macro'), 4),\n",
    "        \"F1 Score\": round(f1_score(y_val, y_pred, average='macro'), 4),\n",
    "    }\n",
    "\n",
    "    classification_results.append(summary)\n",
    "\n",
    "classification_df = pd.DataFrame(classification_results)\n",
    "classification_df.sort_values(by=\"F1 Score\", ascending=False)"
   ]
  },
  {
   "cell_type": "code",
   "execution_count": 37,
   "metadata": {},
   "outputs": [
    {
     "data": {
      "image/png": "[encoded data removed]",
      "text/plain": [
       "<Figure size 640x480 with 2 Axes>"
      ]
     },
     "metadata": {},
     "output_type": "display_data"
    },
    {
     "name": "stdout",
     "output_type": "stream",
     "text": [
      "\n",
      "Classification Report for XGBoost\n",
      "              precision    recall  f1-score   support\n",
      "\n",
      "       False       0.81      0.83      0.82       863\n",
      "        True       0.83      0.81      0.82       876\n",
      "\n",
      "    accuracy                           0.82      1739\n",
      "   macro avg       0.82      0.82      0.82      1739\n",
      "weighted avg       0.82      0.82      0.82      1739\n",
      "\n"
     ]
    }
   ],
   "source": [
    "# Find the best model based on F1 Score\n",
    "best_model_name = classification_df.sort_values(by=\"F1 Score\", ascending=False).iloc[0]['Model']\n",
    "best_model = models[best_model_name]\n",
    "\n",
    "# Make predictions\n",
    "y_pred = best_model.predict(X_val_scaled)\n",
    "\n",
    "# Plot confusion matrix\n",
    "ConfusionMatrixDisplay.from_predictions(y_val, y_pred, cmap='Blues')\n",
    "plt.title(f\"Confusion Matrix – {best_model_name}\")\n",
    "plt.show()\n",
    "\n",
    "# Print classification report\n",
    "print(f\"\\nClassification Report for {best_model_name}\")\n",
    "print(classification_report(y_val, y_pred))"
   ]
  },
  {
   "cell_type": "code",
   "execution_count": 39,
   "metadata": {},
   "outputs": [
    {
     "data": {
      "image/png": "[encoded data removed]",
      "text/plain": [
       "<Figure size 1600x500 with 2 Axes>"
      ]
     },
     "metadata": {},
     "output_type": "display_data"
    }
   ],
   "source": [
    "# Sort by F1 Score (or Accuracy if you want)\n",
    "classification_df_sorted = classification_df.sort_values(by=\"F1 Score\", ascending=False)  # Ascending so best model is at top (barplot is horizontal)\n",
    "\n",
    "fig, axes = plt.subplots(1, 2, figsize=(16, 5))\n",
    "\n",
    "# Accuracy plot\n",
    "sns.barplot(\n",
    "    y='Model', x='Accuracy',\n",
    "    data=classification_df_sorted,\n",
    "    order=classification_df_sorted['Model'],\n",
    "    palette='pastel',\n",
    "    ax=axes[0]\n",
    ")\n",
    "axes[0].set_title(\"Model Accuracy\")\n",
    "axes[0].set_xlim(0, 1)\n",
    "\n",
    "# F1 Score plot\n",
    "sns.barplot(\n",
    "    y='Model', x='F1 Score',\n",
    "    data=classification_df_sorted,\n",
    "    order=classification_df_sorted['Model'],\n",
    "    palette='pastel',\n",
    "    ax=axes[1]\n",
    ")\n",
    "axes[1].set_title(\"Model F1 Score\")\n",
    "axes[1].set_xlim(0, 1)\n",
    "\n",
    "plt.suptitle(\"Model Performance Comparison\", fontsize=16)\n",
    "plt.tight_layout()\n",
    "plt.show()\n"
   ]
  },
  {
   "cell_type": "markdown",
   "metadata": {},
   "source": [
    "# **STEP 8: Model Evaluation**"
   ]
  },
  {
   "cell_type": "code",
   "execution_count": 40,
   "metadata": {},
   "outputs": [
    {
     "name": "stdout",
     "output_type": "stream",
     "text": [
      "🔍 Tuning: Logistic Regression\n",
      "Mean cross-validation score: 0.7928\n",
      "🔍 Tuning: KNN\n",
      "Mean cross-validation score: 0.7412\n",
      "🔍 Tuning: SVM (Linear/RBF)\n",
      "Mean cross-validation score: 0.7866\n",
      "🔍 Tuning: Decision Tree\n",
      "Mean cross-validation score: 0.7719\n",
      "🔍 Tuning: Random Forest\n",
      "Mean cross-validation score: 0.8013\n",
      "🔍 Tuning: Gradient Boosting\n",
      "Mean cross-validation score: 0.8054\n",
      "🔍 Tuning: XGBoost\n",
      "Mean cross-validation score: 0.8050\n",
      "🔍 Tuning: AdaBoost\n",
      "Mean cross-validation score: 0.7752\n",
      "🔍 Tuning: LightGBM\n",
      "Mean cross-validation score: 0.8062\n"
     ]
    },
    {
     "data": {
      "application/vnd.microsoft.datawrangler.viewer.v0+json": {
       "columns": [
        {
         "name": "index",
         "rawType": "int64",
         "type": "integer"
        },
        {
         "name": "Model",
         "rawType": "object",
         "type": "string"
        },
        {
         "name": "Best Params",
         "rawType": "object",
         "type": "unknown"
        },
        {
         "name": "Accuracy",
         "rawType": "float64",
         "type": "float"
        },
        {
         "name": "Precision",
         "rawType": "float64",
         "type": "float"
        },
        {
         "name": "Recall",
         "rawType": "float64",
         "type": "float"
        },
        {
         "name": "F1 Score",
         "rawType": "float64",
         "type": "float"
        },
        {
         "name": "CV Score",
         "rawType": "float64",
         "type": "float"
        }
       ],
       "conversionMethod": "pd.DataFrame",
       "ref": "572c8e2f-fb62-460f-b54f-6d2b3715f76a",
       "rows": [
        [
         "6",
         "XGBoost",
         "{'learning_rate': 0.1, 'max_depth': 4, 'n_estimators': 100}",
         "0.8125",
         "0.8126",
         "0.8125",
         "0.8125",
         "0.805"
        ],
        [
         "8",
         "LightGBM",
         "{'learning_rate': 0.1, 'n_estimators': 100, 'num_leaves': 31}",
         "0.8102",
         "0.8103",
         "0.8102",
         "0.8102",
         "0.8062"
        ],
        [
         "5",
         "Gradient Boosting",
         "{'learning_rate': 0.1, 'max_depth': 3, 'n_estimators': 100}",
         "0.7993",
         "0.7994",
         "0.7992",
         "0.7993",
         "0.8054"
        ],
        [
         "4",
         "Random Forest",
         "{'max_depth': 10, 'min_samples_leaf': 2, 'min_samples_split': 2, 'n_estimators': 200}",
         "0.7936",
         "0.7936",
         "0.7936",
         "0.7936",
         "0.8013"
        ],
        [
         "0",
         "Logistic Regression",
         "{'C': 100, 'solver': 'liblinear'}",
         "0.7907",
         "0.7908",
         "0.7906",
         "0.7906",
         "0.7928"
        ],
        [
         "3",
         "Decision Tree",
         "{'max_depth': 10, 'min_samples_leaf': 4, 'min_samples_split': 10}",
         "0.7884",
         "0.7884",
         "0.7884",
         "0.7884",
         "0.7719"
        ],
        [
         "7",
         "AdaBoost",
         "{'learning_rate': 0.1, 'n_estimators': 100}",
         "0.7746",
         "0.7763",
         "0.7749",
         "0.7743",
         "0.7752"
        ],
        [
         "2",
         "SVM (Linear/RBF)",
         "{'C': 10, 'kernel': 'linear'}",
         "0.774",
         "0.7757",
         "0.7743",
         "0.7738",
         "0.7866"
        ],
        [
         "1",
         "KNN",
         "{'n_neighbors': 7}",
         "0.7591",
         "0.762",
         "0.7594",
         "0.7585",
         "0.7412"
        ]
       ],
       "shape": {
        "columns": 7,
        "rows": 9
       }
      },
      "text/html": [
       "<div>\n",
       "<style scoped>\n",
       "    .dataframe tbody tr th:only-of-type {\n",
       "        vertical-align: middle;\n",
       "    }\n",
       "\n",
       "    .dataframe tbody tr th {\n",
       "        vertical-align: top;\n",
       "    }\n",
       "\n",
       "    .dataframe thead th {\n",
       "        text-align: right;\n",
       "    }\n",
       "</style>\n",
       "<table border=\"1\" class=\"dataframe\">\n",
       "  <thead>\n",
       "    <tr style=\"text-align: right;\">\n",
       "      <th></th>\n",
       "      <th>Model</th>\n",
       "      <th>Best Params</th>\n",
       "      <th>Accuracy</th>\n",
       "      <th>Precision</th>\n",
       "      <th>Recall</th>\n",
       "      <th>F1 Score</th>\n",
       "      <th>CV Score</th>\n",
       "    </tr>\n",
       "  </thead>\n",
       "  <tbody>\n",
       "    <tr>\n",
       "      <th>6</th>\n",
       "      <td>XGBoost</td>\n",
       "      <td>{'learning_rate': 0.1, 'max_depth': 4, 'n_esti...</td>\n",
       "      <td>0.8125</td>\n",
       "      <td>0.8126</td>\n",
       "      <td>0.8125</td>\n",
       "      <td>0.8125</td>\n",
       "      <td>0.8050</td>\n",
       "    </tr>\n",
       "    <tr>\n",
       "      <th>8</th>\n",
       "      <td>LightGBM</td>\n",
       "      <td>{'learning_rate': 0.1, 'n_estimators': 100, 'n...</td>\n",
       "      <td>0.8102</td>\n",
       "      <td>0.8103</td>\n",
       "      <td>0.8102</td>\n",
       "      <td>0.8102</td>\n",
       "      <td>0.8062</td>\n",
       "    </tr>\n",
       "    <tr>\n",
       "      <th>5</th>\n",
       "      <td>Gradient Boosting</td>\n",
       "      <td>{'learning_rate': 0.1, 'max_depth': 3, 'n_esti...</td>\n",
       "      <td>0.7993</td>\n",
       "      <td>0.7994</td>\n",
       "      <td>0.7992</td>\n",
       "      <td>0.7993</td>\n",
       "      <td>0.8054</td>\n",
       "    </tr>\n",
       "    <tr>\n",
       "      <th>4</th>\n",
       "      <td>Random Forest</td>\n",
       "      <td>{'max_depth': 10, 'min_samples_leaf': 2, 'min_...</td>\n",
       "      <td>0.7936</td>\n",
       "      <td>0.7936</td>\n",
       "      <td>0.7936</td>\n",
       "      <td>0.7936</td>\n",
       "      <td>0.8013</td>\n",
       "    </tr>\n",
       "    <tr>\n",
       "      <th>0</th>\n",
       "      <td>Logistic Regression</td>\n",
       "      <td>{'C': 100, 'solver': 'liblinear'}</td>\n",
       "      <td>0.7907</td>\n",
       "      <td>0.7908</td>\n",
       "      <td>0.7906</td>\n",
       "      <td>0.7906</td>\n",
       "      <td>0.7928</td>\n",
       "    </tr>\n",
       "    <tr>\n",
       "      <th>3</th>\n",
       "      <td>Decision Tree</td>\n",
       "      <td>{'max_depth': 10, 'min_samples_leaf': 4, 'min_...</td>\n",
       "      <td>0.7884</td>\n",
       "      <td>0.7884</td>\n",
       "      <td>0.7884</td>\n",
       "      <td>0.7884</td>\n",
       "      <td>0.7719</td>\n",
       "    </tr>\n",
       "    <tr>\n",
       "      <th>7</th>\n",
       "      <td>AdaBoost</td>\n",
       "      <td>{'learning_rate': 0.1, 'n_estimators': 100}</td>\n",
       "      <td>0.7746</td>\n",
       "      <td>0.7763</td>\n",
       "      <td>0.7749</td>\n",
       "      <td>0.7743</td>\n",
       "      <td>0.7752</td>\n",
       "    </tr>\n",
       "    <tr>\n",
       "      <th>2</th>\n",
       "      <td>SVM (Linear/RBF)</td>\n",
       "      <td>{'C': 10, 'kernel': 'linear'}</td>\n",
       "      <td>0.7740</td>\n",
       "      <td>0.7757</td>\n",
       "      <td>0.7743</td>\n",
       "      <td>0.7738</td>\n",
       "      <td>0.7866</td>\n",
       "    </tr>\n",
       "    <tr>\n",
       "      <th>1</th>\n",
       "      <td>KNN</td>\n",
       "      <td>{'n_neighbors': 7}</td>\n",
       "      <td>0.7591</td>\n",
       "      <td>0.7620</td>\n",
       "      <td>0.7594</td>\n",
       "      <td>0.7585</td>\n",
       "      <td>0.7412</td>\n",
       "    </tr>\n",
       "  </tbody>\n",
       "</table>\n",
       "</div>"
      ],
      "text/plain": [
       "                 Model                                        Best Params  Accuracy  Precision  Recall  F1 Score  CV Score\n",
       "6              XGBoost  {'learning_rate': 0.1, 'max_depth': 4, 'n_esti...    0.8125     0.8126  0.8125    0.8125    0.8050\n",
       "8             LightGBM  {'learning_rate': 0.1, 'n_estimators': 100, 'n...    0.8102     0.8103  0.8102    0.8102    0.8062\n",
       "5    Gradient Boosting  {'learning_rate': 0.1, 'max_depth': 3, 'n_esti...    0.7993     0.7994  0.7992    0.7993    0.8054\n",
       "4        Random Forest  {'max_depth': 10, 'min_samples_leaf': 2, 'min_...    0.7936     0.7936  0.7936    0.7936    0.8013\n",
       "0  Logistic Regression                  {'C': 100, 'solver': 'liblinear'}    0.7907     0.7908  0.7906    0.7906    0.7928\n",
       "3        Decision Tree  {'max_depth': 10, 'min_samples_leaf': 4, 'min_...    0.7884     0.7884  0.7884    0.7884    0.7719\n",
       "7             AdaBoost        {'learning_rate': 0.1, 'n_estimators': 100}    0.7746     0.7763  0.7749    0.7743    0.7752\n",
       "2     SVM (Linear/RBF)                      {'C': 10, 'kernel': 'linear'}    0.7740     0.7757  0.7743    0.7738    0.7866\n",
       "1                  KNN                                 {'n_neighbors': 7}    0.7591     0.7620  0.7594    0.7585    0.7412"
      ]
     },
     "execution_count": 40,
     "metadata": {},
     "output_type": "execute_result"
    }
   ],
   "source": [
    "# Define models and their hyperparameter grids\n",
    "models_grid = {\n",
    "    'Logistic Regression': {\n",
    "        'model': LogisticRegression(random_state=9),\n",
    "        'param_grid': {\n",
    "            'C': [0.001, 0.01, 0.1, 1, 10, 100],\n",
    "            'solver': ['liblinear', 'lbfgs'],\n",
    "        }\n",
    "    },\n",
    "    'KNN': {\n",
    "        'model': KNeighborsClassifier(),\n",
    "        'param_grid': {\n",
    "            'n_neighbors': [3, 5, 7],\n",
    "        }\n",
    "    },\n",
    "    'SVM (Linear/RBF)': {\n",
    "        'model': SVC(probability=True),\n",
    "        'param_grid': {\n",
    "            'C': [0.1, 1, 10],\n",
    "            'kernel': ['linear', 'rbf'],\n",
    "        }\n",
    "    },\n",
    "    'Decision Tree': {\n",
    "        'model': DecisionTreeClassifier(),\n",
    "        'param_grid': {\n",
    "            'max_depth': [None, 10, 20, 30],\n",
    "            'min_samples_split': [2, 5, 10],\n",
    "            'min_samples_leaf': [1, 2, 4],\n",
    "        }\n",
    "    },\n",
    "    'Random Forest': {\n",
    "        'model': RandomForestClassifier(),\n",
    "        'param_grid': {\n",
    "            'n_estimators': [100, 200],\n",
    "            'max_depth': [None, 10, 20],\n",
    "            'min_samples_split': [2, 5],\n",
    "            'min_samples_leaf': [1, 2],\n",
    "        }\n",
    "    },\n",
    "    'Gradient Boosting': {\n",
    "        'model': GradientBoostingClassifier(),\n",
    "        'param_grid': {\n",
    "            'n_estimators': [50, 100],\n",
    "            'learning_rate': [0.01, 0.1],\n",
    "            'max_depth': [3, 4],\n",
    "        }\n",
    "    },\n",
    "    'XGBoost': {\n",
    "        'model': XGBClassifier(use_label_encoder=False, eval_metric='logloss'),\n",
    "        'param_grid': {\n",
    "            'n_estimators': [50, 100],\n",
    "            'learning_rate': [0.01, 0.1],\n",
    "            'max_depth': [3, 4],\n",
    "        }\n",
    "    },\n",
    "    'AdaBoost': {\n",
    "        'model': AdaBoostClassifier(random_state=42),\n",
    "        'param_grid': {\n",
    "            'n_estimators': [50, 100],\n",
    "            'learning_rate': [0.01, 0.1],\n",
    "        }\n",
    "    },\n",
    "    'LightGBM': {\n",
    "        'model': LGBMClassifier(random_state=42, verbose=-1),\n",
    "        'param_grid': {\n",
    "            'n_estimators': [50, 100],\n",
    "            'learning_rate': [0.01, 0.1],\n",
    "            'num_leaves': [31, 50],\n",
    "        }\n",
    "    }\n",
    "}\n",
    "\n",
    "# Train and evaluate models\n",
    "# Train and evaluate models\n",
    "summary_list = []\n",
    "best_estimators = {}\n",
    "\n",
    "for name, model_info in models_grid.items():\n",
    "    print(f\"🔍 Tuning: {name}\")\n",
    "    model = model_info['model']\n",
    "    param_grid = model_info['param_grid']\n",
    "    # for faster convergence and run (due to the large dataset)\n",
    "    grid_search = GridSearchCV(\n",
    "        estimator=model,\n",
    "        param_grid=param_grid,\n",
    "        cv=5,\n",
    "        n_jobs=-1,\n",
    "        scoring='accuracy'\n",
    "    )\n",
    "    grid_search.fit(X_train_scaled, y_train)\n",
    "    best_model = grid_search.best_estimator_\n",
    "    y_pred = best_model.predict(X_val_scaled)\n",
    "    \n",
    "    cross_val = cross_val_score(grid_search.best_estimator_, X_train_scaled,y_train,cv=5)\n",
    "    print(f\"Mean cross-validation score: {cross_val.mean():.4f}\")\n",
    "    \n",
    "    summary_list.append({\n",
    "        \"Model\": name,\n",
    "        \"Best Params\": grid_search.best_params_,\n",
    "        \"Accuracy\": round(accuracy_score(y_val, y_pred), 4),\n",
    "        \"Precision\": round(precision_score(y_val, y_pred, average='macro'), 4),\n",
    "        \"Recall\": round(recall_score(y_val, y_pred, average='macro'), 4),\n",
    "        \"F1 Score\": round(f1_score(y_val, y_pred, average='macro'), 4),\n",
    "        \"CV Score\": round(cross_val.mean(), 4)\n",
    "    })\n",
    "\n",
    "    best_estimators[name] = best_model\n",
    "\n",
    "# Create DataFrame and display\n",
    "summary_df = pd.DataFrame(summary_list).sort_values(by='Accuracy', ascending=False)\n",
    "summary_df"
   ]
  },
  {
   "cell_type": "code",
   "execution_count": 41,
   "metadata": {},
   "outputs": [
    {
     "data": {
      "image/png": "[encoded data removed]",
      "text/plain": [
       "<Figure size 640x480 with 2 Axes>"
      ]
     },
     "metadata": {},
     "output_type": "display_data"
    },
    {
     "name": "stdout",
     "output_type": "stream",
     "text": [
      "Classification Report – XGBoost Model\n",
      "              precision    recall  f1-score   support\n",
      "\n",
      "       False       0.82      0.80      0.81       863\n",
      "        True       0.81      0.82      0.82       876\n",
      "\n",
      "    accuracy                           0.81      1739\n",
      "   macro avg       0.81      0.81      0.81      1739\n",
      "weighted avg       0.81      0.81      0.81      1739\n",
      "\n"
     ]
    }
   ],
   "source": [
    "# Choose based on summary_df or your evaluation results\n",
    "best_model_name = summary_df.sort_values(by='F1 Score',ascending=False).iloc[0]['Model']\n",
    "best_model = best_estimators[best_model_name]\n",
    "\n",
    "# Evaluate\n",
    "y_pred = best_model.predict(X_val_scaled)\n",
    "\n",
    "# Confusion Matrix\n",
    "ConfusionMatrixDisplay.from_estimator(best_model, X_val_scaled, y_val, cmap='Blues')\n",
    "plt.title(f\"Confusion Matrix – {best_model_name} Model\")\n",
    "plt.show()\n",
    "\n",
    "# Classification Report\n",
    "print(f\"Classification Report – {best_model_name} Model\")\n",
    "print(classification_report(y_val, y_pred))"
   ]
  },
  {
   "cell_type": "code",
   "execution_count": 42,
   "metadata": {},
   "outputs": [
    {
     "data": {
      "image/png": "[encoded data removed]",
      "text/plain": [
       "<Figure size 1600x500 with 2 Axes>"
      ]
     },
     "metadata": {},
     "output_type": "display_data"
    }
   ],
   "source": [
    "fig, axes = plt.subplots(1, 2, figsize=(16, 5))\n",
    "\n",
    "sns.barplot(y=summary_df['Model'], x=summary_df['Accuracy'], palette='pastel', ax=axes[0])\n",
    "axes[0].set_title(\"Model Accuracy\")\n",
    "axes[0].set_xlim(0, 1)\n",
    "\n",
    "sns.barplot(y=summary_df['Model'], x=summary_df['F1 Score'], palette='pastel', ax=axes[1])\n",
    "axes[1].set_title(\"Model F1 Score\")\n",
    "axes[1].set_xlim(0, 1)\n",
    "\n",
    "plt.suptitle(\"Model Performance Comparison\")\n",
    "plt.tight_layout()\n",
    "plt.show()"
   ]
  },
  {
   "cell_type": "markdown",
   "metadata": {},
   "source": [
    "# **Step 9: Deployment & Submission**"
   ]
  },
  {
   "cell_type": "code",
   "execution_count": 59,
   "metadata": {},
   "outputs": [
    {
     "name": "stdout",
     "output_type": "stream",
     "text": [
      "✅ Submission file saved as submission.csv\n",
      "✅ Final model saved as final_model.pkl\n",
      "✅ Final scaler saved as final_scaler.pkl\n"
     ]
    }
   ],
   "source": [
    "# combine train and validation sets\n",
    "X_full = pd.concat([X_train,X_val])\n",
    "y_full = pd.concat([y_train, y_val])\n",
    "\n",
    "# refit scaler on full data\n",
    "final_scaler = MinMaxScaler()\n",
    "X_full_scaled = final_scaler.fit_transform(X_full)\n",
    "X_test_scaled = final_scaler.transform(test)\n",
    "\n",
    "# Load best tuned model\n",
    "sorted_pre_tuned_model = classification_df.sort_values(by='Accuracy',ascending=False)\n",
    "best_model_name = sorted_pre_tuned_model.iloc[0]['Model']\n",
    "best_model = best_estimators[best_model_name]\n",
    "\n",
    "# Retrain best model on full data\n",
    "final_model = best_model.__class__(**best_model.get_params())  # copy tuned parameters\n",
    "final_model = best_model.fit(X_full_scaled, y_full)\n",
    "\n",
    "# Predict on test set\n",
    "test_predictions = final_model.predict(X_test_scaled)\n",
    "\n",
    "if test_predictions.dtype != bool:\n",
    "    test_predictions = pd.Series(test_predictions).map({1: True, 0: False}).values\n",
    "\n",
    "# Prepare submission file\n",
    "submission = pd.read_csv(\"C:/Users/ARZ/Desktop/sample_submission.csv\")\n",
    "submission[\"Transported\"] = test_predictions\n",
    "submission.to_csv(\"submission.csv\", index=False)\n",
    "\n",
    "# Save final model and scaler\n",
    "joblib.dump(final_model, \"final_model.pkl\")\n",
    "joblib.dump(final_scaler, \"final_scaler.pkl\")\n",
    "\n",
    "print(f\"✅ Submission file saved as submission.csv\")\n",
    "print(f\"✅ Final model saved as final_model.pkl\")\n",
    "print(f\"✅ Final scaler saved as final_scaler.pkl\")"
   ]
  }
 ],
 "metadata": {
  "colab": {
   "authorship_tag": "ABX9TyPK+5y7lJzjdCdivP0xD3xP",
   "collapsed_sections": [
    "8pEXlqhWTr3w",
    "O6kM-UzMT0MI",
    "8C_YD7tjT9Kf",
    "gOAgUzo9bgFD",
    "GJZCJkq5UDir",
    "dqbZwlsLm8GM",
    "ukEgk3nBvxzU",
    "QhdJOgutUI4K",
    "pAIazOgWAwTo",
    "vej8M_mh8T0L",
    "8OAvdxtI2NB1",
    "P-3bjiY-VmGF"
   ],
   "provenance": []
  },
  "kernelspec": {
   "display_name": "Python 3",
   "name": "python3"
  },
  "language_info": {
   "codemirror_mode": {
    "name": "ipython",
    "version": 3
   },
   "file_extension": ".py",
   "mimetype": "text/x-python",
   "name": "python",
   "nbconvert_exporter": "python",
   "pygments_lexer": "ipython3",
   "version": "3.12.0"
  }
 },
 "nbformat": 4,
 "nbformat_minor": 0
}
